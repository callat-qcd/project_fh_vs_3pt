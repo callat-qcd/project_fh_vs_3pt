{
 "cells": [
  {
   "cell_type": "markdown",
   "metadata": {},
   "source": [
    "# This notebook compares the E0, gA00, and gV00 results of various models "
   ]
  },
  {
   "cell_type": "code",
   "execution_count": 5,
   "metadata": {},
   "outputs": [],
   "source": [
    "import numpy as np\n",
    "import gvar as gv\n",
    "import matplotlib.pyplot as plt\n",
    "from matplotlib.collections import PatchCollection\n",
    "from matplotlib.patches import Rectangle\n",
    "from matplotlib.lines import Line2D"
   ]
  },
  {
   "cell_type": "code",
   "execution_count": 6,
   "metadata": {},
   "outputs": [],
   "source": [
    "import pickle"
   ]
  },
  {
   "cell_type": "code",
   "execution_count": 7,
   "metadata": {},
   "outputs": [],
   "source": [
    "file_list = np.array([['chained_2pt_3pt_Final.obj', 'simul2pt3pt_n5_out.obj'], \\\n",
    "                      ['chained_2pt_3pt_Final.obj', 'simul2pt3pt_tau2_n4_out.obj'], \\\n",
    "                      ['chained_2pt_3pt_withFH_Final.obj', 'simul2pt3pt_n5_withFH_out.obj'], \\\n",
    "                      ['chained_2pt_3pt_tau2_withFH_Final.obj', 'simul2pt3pt_tau2_withFH_n4_out.obj'], \\\n",
    "                      ['Final(3pt)_out.obj', 'all_postchained_out.obj'], \\\n",
    "                      ['Final(3pt)_tau2_out.obj', 'all_postchained_out_tau2.obj'], \\\n",
    "                      ['Final(3pt)_withFH_out.obj', 'all_postchained_withFH_out.obj'], \\\n",
    "                      ['Final(3pt)_tau2_withFH_out.obj', 'all_postchained_withFH_tau_out.obj']])\n",
    "\n"
   ]
  },
  {
   "cell_type": "code",
   "execution_count": 58,
   "metadata": {},
   "outputs": [],
   "source": [
    "model_list = np.array([\"2pt-3pt,tau1\", \"2pt-3pt,tau2\", \"2pt-FH-3pt,tau1\", \"2pt-FH-3pt,tau2\", \"2pt-ssub-3pt,tau1\", \"2pt-ssub-3pt,tau2\", \"2pt-ssub-FH-3pt,tau1\", \"2pt-ssub-FH-3pt,tau2\"])\n",
    "label_list = np.array([\"chained\", \"simultaneous\"])\n",
    "color_list = np.array(['red', 'blue'])"
   ]
  },
  {
   "cell_type": "code",
   "execution_count": 59,
   "metadata": {},
   "outputs": [],
   "source": [
    "# This method is copied from StackOverFlow, courtesy of tmdavison (https://stackoverflow.com/questions/37852462/filled-errorbars-in-matplotlib-rectangles/37852631)\n",
    "def makeErrorBoxes(xdata,ydata,xerror,yerror,fc=None,ec='None',alpha=0.3, legendlabel=None):\n",
    "    \n",
    "    if fc is None:\n",
    "        fc = np.array(['red' for i in xdata])\n",
    "    \n",
    "    # Create list for all the error patches\n",
    "    errorboxes = []\n",
    "\n",
    "    # Loop over data points; create box from errors at each point\n",
    "    for xc,yc,xe,ye,ci in zip(xdata,ydata,xerror.T,yerror.T,fc):\n",
    "        rect = Rectangle((xc-xe[0],yc-ye[0]),xe.sum(),ye.sum())\n",
    "        errorboxes.append(rect)\n",
    "\n",
    "    # Create patch collection with specified colour/alpha\n",
    "    pc = PatchCollection(errorboxes,alpha=alpha,edgecolor=ec, facecolor=fc, label = legendlabel)\n",
    "    #if legendlabel is not None:\n",
    "        #pc.set_label(legendlabel)\n",
    "    \n",
    "    # Add collection to axes\n",
    "    ax.add_collection(pc)\n",
    "    ax.legend()"
   ]
  },
  {
   "cell_type": "code",
   "execution_count": 80,
   "metadata": {},
   "outputs": [],
   "source": [
    "# param is the paramg whose results are being sampled, infiles is a list of files from which to get the \n",
    "# parameter, and is a 2d array with axis 0 of length the same as len(models) and with axis 1 of length same as len(labels)\n",
    "def compare(param, infiles, models, labels, colors, ylim, graphtitle, outfile):\n",
    "    x_vals = np.zeros(len(models))\n",
    "    x_errs = np.zeros([2,len(models)])\n",
    "    param_vals = np.zeros([len(models), len(labels)])\n",
    "    param_errs = np.zeros([2, len(models), len(labels)])\n",
    "    \n",
    "    for i in range(len(models)):\n",
    "        x_vals[i] = i\n",
    "        x_errs[0][i] = 0.1\n",
    "        x_errs[1][i] = 0.1\n",
    "        for j in range(len(labels)):\n",
    "            posterior_file = open(infiles[i][j], 'rb')\n",
    "            posteriors = pickle.load(posterior_file)\n",
    "            posterior_file.close()\n",
    "            param_vals[i][j] = posteriors[param].mean\n",
    "            param_errs[0][i][j] = posteriors[param].sdev\n",
    "            param_errs[1][i][j] = posteriors[param].sdev\n",
    "            \n",
    "    xlim_lowerbound = -0.5\n",
    "    xlim_upperbound = len(models) - 0.5\n",
    "    \n",
    "    xtick_nums = np.array([i for i in range(int(x_vals[0]), len(models))])\n",
    "    xtick_strings = models\n",
    "    \n",
    "    ax.set_title(graphtitle)\n",
    "    ax.set_xticks(xtick_nums)\n",
    "    ax.set_xticklabels(xtick_strings)\n",
    "    \n",
    "    legend_objects = []\n",
    "    for j in range(len(labels)):\n",
    "        parampatch = Line2D([0], [0], linestyle=\"none\", marker=\"s\", alpha=1.0, markersize=10, markerfacecolor=colors[j])\n",
    "        makeErrorBoxes(x_vals+0.2*j, param_vals[:,j], x_errs, param_errs[:,:,j], fc=[colors[j] for i in range(len(xtick_nums))], legendlabel=labels[j]) \n",
    "        legend_objects.append(parampatch)\n",
    "        \n",
    "    makeErrorBoxes(x_vals, param_vals[:,0], x_errs, param_errs[:,:,0], fc=['red'], legendlabel=[\"posterior\"])\n",
    "    plt.legend(legend_objects, labels, loc = 'upper right')\n",
    "    ax.set_xlim([xlim_lowerbound, xlim_upperbound])\n",
    "    ax.set_ylim(ylim)\n",
    "    \n",
    "    plt.savefig(outfile)\n",
    "    \n",
    "    plt.show() \n",
    "    \n",
    "    plt.clf()\n",
    "    \n",
    "    print(param, \" values: \", param_vals, \";\\n errors: \", param_errs[0])\n"
   ]
  },
  {
   "cell_type": "code",
   "execution_count": 81,
   "metadata": {},
   "outputs": [
    {
     "name": "stderr",
     "output_type": "stream",
     "text": [
      "No handles with labels found to put in legend.\n",
      "No handles with labels found to put in legend.\n",
      "No handles with labels found to put in legend.\n"
     ]
    },
    {
     "data": {
      "image/png": "[encoded data removed]",
      "text/plain": [
       "<Figure size 1080x504 with 1 Axes>"
      ]
     },
     "metadata": {
      "needs_background": "light"
     },
     "output_type": "display_data"
    },
    {
     "name": "stderr",
     "output_type": "stream",
     "text": [
      "No handles with labels found to put in legend.\n",
      "No handles with labels found to put in legend.\n",
      "No handles with labels found to put in legend.\n"
     ]
    },
    {
     "name": "stdout",
     "output_type": "stream",
     "text": [
      "gA3_00  values:  [[1.21690845 1.17518559]\n",
      " [1.21690845 1.17123393]\n",
      " [1.25418996 1.24384048]\n",
      " [1.22365355 1.25207521]\n",
      " [1.2681445  1.26623779]\n",
      " [1.22923837 1.18753643]\n",
      " [1.2652162  1.27237876]\n",
      " [1.23504405 1.20206639]] ;\n",
      " errors:  [[0.06739213 0.10586879]\n",
      " [0.06739213 0.09157819]\n",
      " [0.00797935 0.00409945]\n",
      " [0.01180071 0.00846494]\n",
      " [0.03088884 0.00486318]\n",
      " [0.01338195 0.10410982]\n",
      " [0.0070307  0.00799289]\n",
      " [0.01238027 0.04267989]]\n"
     ]
    },
    {
     "data": {
      "text/plain": [
       "<Figure size 432x288 with 0 Axes>"
      ]
     },
     "metadata": {},
     "output_type": "display_data"
    },
    {
     "data": {
      "image/png": "[encoded data removed]",
      "text/plain": [
       "<Figure size 1080x504 with 1 Axes>"
      ]
     },
     "metadata": {
      "needs_background": "light"
     },
     "output_type": "display_data"
    },
    {
     "name": "stderr",
     "output_type": "stream",
     "text": [
      "No handles with labels found to put in legend.\n",
      "No handles with labels found to put in legend.\n",
      "No handles with labels found to put in legend.\n"
     ]
    },
    {
     "name": "stdout",
     "output_type": "stream",
     "text": [
      "gV4_00  values:  [[1.0251157  1.0271391 ]\n",
      " [1.0251157  0.99610104]\n",
      " [1.0198558  1.01777124]\n",
      " [1.01880118 1.02017266]\n",
      " [1.01185942 1.01319485]\n",
      " [1.01284889 1.00266756]\n",
      " [1.0196725  1.01144151]\n",
      " [1.01977403 1.01309019]] ;\n",
      " errors:  [[0.01948251 0.02632663]\n",
      " [0.01948251 0.01689232]\n",
      " [0.00074511 0.00039928]\n",
      " [0.00136167 0.00079725]\n",
      " [0.00543544 0.00160223]\n",
      " [0.00350747 0.01862618]\n",
      " [0.00065104 0.00184835]\n",
      " [0.0014139  0.00443333]]\n"
     ]
    },
    {
     "data": {
      "text/plain": [
       "<Figure size 432x288 with 0 Axes>"
      ]
     },
     "metadata": {},
     "output_type": "display_data"
    },
    {
     "data": {
      "image/png": "[encoded data removed]",
      "text/plain": [
       "<Figure size 1080x504 with 1 Axes>"
      ]
     },
     "metadata": {
      "needs_background": "light"
     },
     "output_type": "display_data"
    },
    {
     "name": "stdout",
     "output_type": "stream",
     "text": [
      "E0  values:  [[0.66004773 0.65759129]\n",
      " [0.66004773 0.65097009]\n",
      " [0.66090997 0.66133237]\n",
      " [0.659566   0.65609928]\n",
      " [0.66167698 0.6604685 ]\n",
      " [0.65925585 0.65187936]\n",
      " [0.66145328 0.65890471]\n",
      " [0.65985368 0.66109151]] ;\n",
      " errors:  [[0.00378023 0.00709624]\n",
      " [0.00378023 0.00920345]\n",
      " [0.00336565 0.00278957]\n",
      " [0.00220826 0.00555407]\n",
      " [0.00343923 0.00078695]\n",
      " [0.00231638 0.00991414]\n",
      " [0.00345451 0.00088078]\n",
      " [0.00217711 0.00339815]]\n"
     ]
    },
    {
     "data": {
      "text/plain": [
       "<Figure size 432x288 with 0 Axes>"
      ]
     },
     "metadata": {},
     "output_type": "display_data"
    }
   ],
   "source": [
    "fig = plt.figure(figsize=(15, 7))\n",
    "ax = fig.add_axes([0.1, 0.1, 0.8, 0.8])\n",
    "compare('gA3_00', file_list, model_list, label_list, color_list, [1.05, 1.31], \"Comparison of models, g_{A300}\", \"g_{A300}_modelcomp.png\")\n",
    "\n",
    "fig = plt.figure(figsize=(15, 7))\n",
    "ax = fig.add_axes([0.1, 0.1, 0.8, 0.8])\n",
    "compare('gV4_00', file_list, model_list, label_list, color_list, [0.97, 1.06], \"Comparison of models, g_{V400}\", \"g_{V400}_modelcomp.png\")\n",
    "\n",
    "fig = plt.figure(figsize=(15, 7))\n",
    "ax = fig.add_axes([0.1, 0.1, 0.8, 0.8])\n",
    "compare('E0', file_list, model_list, label_list, color_list, [0.64, 0.67], \"Comparison of models, E0\", \"E0_modelcomp.png\")\n"
   ]
  },
  {
   "cell_type": "code",
   "execution_count": 83,
   "metadata": {},
   "outputs": [],
   "source": [
    "# Creates a table to compare values of a certain parameter\n",
    "# Columns = models; rows = 'labels' (simultaneous vs. chained)\n",
    "def compare_table(param, infiles, models, labels):\n",
    "    param_vals = np.zeros([len(models), len(labels)])\n",
    "    param_errs = np.zeros([len(models), len(labels)])\n",
    "    \n",
    "    for i in range(len(models)):\n",
    "        for j in range(len(labels)):\n",
    "            posterior_file = open(infiles[i][j], 'rb')\n",
    "            posteriors = pickle.load(posterior_file)\n",
    "            posterior_file.close()\n",
    "            param_vals[i][j] = posteriors[param].mean\n",
    "            param_errs[i][j] = posteriors[param].sdev\n",
    "    \n",
    "    tab_param = {}\n",
    "\n",
    "\n",
    "    for j in range(len(b)):\n",
    "        col_param = []\n",
    "        for i in range(len(a)):\n",
    "            col_param.append(\"{0:.4f}+/-{1:.4f}\".format(param_vals[i][j], E0_err_readout[i][j][max_k][0]*E0_mean_readout[i][j][max_k][0]))\n",
    "        \n",
    "        \n",
    "    max_logGBFS.update({'{0:.1f}'.format(b[j]):col_logGBF})"
   ]
  },
  {
   "cell_type": "code",
   "execution_count": 84,
   "metadata": {},
   "outputs": [
    {
     "name": "stdout",
     "output_type": "stream",
     "text": [
      "\t chained simultaneous \n",
      "2pt-3pt,tau1 1.216908448730059 +/- 0.06739212796343064 1.1751855919747807 +/- 0.10586878566574921 \n",
      "2pt-3pt,tau2 1.216908448730059 +/- 0.06739212796343064 1.171233932167303 +/- 0.09157819100603176 \n",
      "2pt-FH-3pt,tau1 1.254189957323939 +/- 0.00797934663355851 1.2438404763666782 +/- 0.004099453625814752 \n",
      "2pt-FH-3pt,tau2 1.2236535542629414 +/- 0.01180070793705167 1.2520752145463665 +/- 0.008464937046752193 \n",
      "2pt-ssub-3pt,tau1 1.268144498995433 +/- 0.03088884005711882 1.2662377906606088 +/- 0.0048631781527590165 \n",
      "2pt-ssub-3pt,tau2 1.2292383655063448 +/- 0.013381949352386681 1.1875364320473882 +/- 0.10410982309539053 \n",
      "2pt-ssub-FH-3pt,tau1 1.2652161958776278 +/- 0.007030702362023504 1.2723787623377734 +/- 0.00799288918669503 \n",
      "2pt-ssub-FH-3pt,tau2 1.2350440470971658 +/- 0.0123802694321909 1.2020663853339386 +/- 0.04267988836332435 \n",
      "\t chained simultaneous \n",
      "2pt-3pt,tau1 1.025115695441652 +/- 0.0194825125283526 1.0271391000837056 +/- 0.026326634202058292 \n",
      "2pt-3pt,tau2 1.025115695441652 +/- 0.0194825125283526 0.9961010443805056 +/- 0.01689231875683582 \n",
      "2pt-FH-3pt,tau1 1.0198557996387467 +/- 0.0007451083800260915 1.0177712430357604 +/- 0.0003992798335846925 \n",
      "2pt-FH-3pt,tau2 1.0188011822913414 +/- 0.0013616743758554854 1.02017266281745 +/- 0.0007972532486992266 \n",
      "2pt-ssub-3pt,tau1 1.0118594238055751 +/- 0.0054354364168763955 1.0131948498207028 +/- 0.0016022309204489532 \n",
      "2pt-ssub-3pt,tau2 1.0128488941718445 +/- 0.003507470489991083 1.0026675591757137 +/- 0.018626181524258427 \n",
      "2pt-ssub-FH-3pt,tau1 1.0196724950758804 +/- 0.0006510448052574713 1.0114415127143925 +/- 0.0018483506015931207 \n",
      "2pt-ssub-FH-3pt,tau2 1.0197740347160151 +/- 0.0014138999782532448 1.0130901872503297 +/- 0.004433332478584939 \n",
      "\t chained simultaneous \n",
      "2pt-3pt,tau1 0.6600477307260868 +/- 0.0037802328737982244 0.6575912876015186 +/- 0.007096243289734649 \n",
      "2pt-3pt,tau2 0.6600477307260868 +/- 0.0037802328737982244 0.6509700894947171 +/- 0.00920344695039837 \n",
      "2pt-FH-3pt,tau1 0.6609099686222053 +/- 0.0033656531149060826 0.6613323663681515 +/- 0.0027895737020335785 \n",
      "2pt-FH-3pt,tau2 0.659566000300998 +/- 0.0022082598368739887 0.6560992842492719 +/- 0.00555407462509277 \n",
      "2pt-ssub-3pt,tau1 0.6616769794747469 +/- 0.0034392280861204054 0.6604684953098536 +/- 0.0007869540997961104 \n",
      "2pt-ssub-3pt,tau2 0.6592558513655312 +/- 0.002316378111444244 0.6518793596709617 +/- 0.009914140306238602 \n",
      "2pt-ssub-FH-3pt,tau1 0.6614532800894747 +/- 0.0034545073335789287 0.6589047062963399 +/- 0.0008807758244285174 \n",
      "2pt-ssub-FH-3pt,tau2 0.6598536829718377 +/- 0.002177110011846539 0.6610915060989495 +/- 0.0033981492647418695 \n"
     ]
    },
    {
     "data": {
      "image/png": "[encoded data removed]",
      "text/plain": [
       "<Figure size 1080x504 with 1 Axes>"
      ]
     },
     "metadata": {
      "needs_background": "light"
     },
     "output_type": "display_data"
    },
    {
     "data": {
      "image/png": "[encoded data removed]",
      "text/plain": [
       "<Figure size 1080x504 with 1 Axes>"
      ]
     },
     "metadata": {
      "needs_background": "light"
     },
     "output_type": "display_data"
    },
    {
     "data": {
      "image/png": "[encoded data removed]",
      "text/plain": [
       "<Figure size 1080x504 with 1 Axes>"
      ]
     },
     "metadata": {
      "needs_background": "light"
     },
     "output_type": "display_data"
    }
   ],
   "source": [
    "fig = plt.figure(figsize=(15, 7))\n",
    "ax = fig.add_axes([0.1, 0.1, 0.8, 0.8])\n",
    "compare_table('gA3_00', file_list, model_list, label_list)\n",
    "\n",
    "fig = plt.figure(figsize=(15, 7))\n",
    "ax = fig.add_axes([0.1, 0.1, 0.8, 0.8])\n",
    "compare_table('gV4_00', file_list, model_list, label_list)\n",
    "\n",
    "fig = plt.figure(figsize=(15, 7))\n",
    "ax = fig.add_axes([0.1, 0.1, 0.8, 0.8])\n",
    "compare_table('E0', file_list, model_list, label_list)\n",
    "\n"
   ]
  },
  {
   "cell_type": "code",
   "execution_count": null,
   "metadata": {},
   "outputs": [],
   "source": []
  }
 ],
 "metadata": {
  "kernelspec": {
   "display_name": "Python 3",
   "language": "python",
   "name": "python3"
  },
  "language_info": {
   "codemirror_mode": {
    "name": "ipython",
    "version": 3
   },
   "file_extension": ".py",
   "mimetype": "text/x-python",
   "name": "python",
   "nbconvert_exporter": "python",
   "pygments_lexer": "ipython3",
   "version": "3.8.1"
  }
 },
 "nbformat": 4,
 "nbformat_minor": 4
}
