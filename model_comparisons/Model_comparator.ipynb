{
 "cells": [
  {
   "cell_type": "markdown",
   "metadata": {},
   "source": [
    "# This notebook compares the E0, gA00, and gV00 results of various models "
   ]
  },
  {
   "cell_type": "code",
   "execution_count": 1,
   "metadata": {},
   "outputs": [],
   "source": [
    "import numpy as np\n",
    "import gvar as gv\n",
    "import pandas as pd\n",
    "import matplotlib.pyplot as plt\n",
    "from matplotlib.collections import PatchCollection\n",
    "from matplotlib.patches import Rectangle\n",
    "from matplotlib.lines import Line2D"
   ]
  },
  {
   "cell_type": "code",
   "execution_count": 2,
   "metadata": {},
   "outputs": [],
   "source": [
    "import pickle"
   ]
  },
  {
   "cell_type": "code",
   "execution_count": 3,
   "metadata": {},
   "outputs": [],
   "source": [
    "file_list = np.array([['chained_2pt_3pt_Final.obj', 'simul2pt3pt_n5_out.obj'], \\\n",
    "                      ['chained_2pt_3pt_Final.obj', 'simul2pt3pt_tau2_n4_out.obj'], \\\n",
    "                      ['chained_2pt_3pt_withFH_Final.obj', 'simul2pt3pt_n5_withFH_out.obj'], \\\n",
    "                      ['chained_2pt_3pt_tau2_withFH_Final.obj', 'simul2pt3pt_tau2_withFH_n4_out.obj'], \\\n",
    "                      ['Final(3pt)_out.obj', 'all_postchained_out.obj'], \\\n",
    "                      ['Final(3pt)_tau2_out.obj', 'all_postchained_out_tau2.obj'], \\\n",
    "                      ['Final(3pt)_withFH_out.obj', 'all_postchained_withFH_out.obj'], \\\n",
    "                      ['Final(3pt)_tau2_withFH_out.obj', 'all_postchained_withFH_tau_out.obj']])\n",
    "\n"
   ]
  },
  {
   "cell_type": "code",
   "execution_count": 4,
   "metadata": {},
   "outputs": [],
   "source": [
    "model_list = np.array([\"2pt-3pt,tau1\", \"2pt-3pt,tau2\", \"2pt-FH-3pt,tau1\", \"2pt-FH-3pt,tau2\", \"2pt-ssub-3pt,tau1\", \"2pt-ssub-3pt,tau2\", \"2pt-ssub-FH-3pt,tau1\", \"2pt-ssub-FH-3pt,tau2\"])\n",
    "label_list = np.array([\"chained\", \"simultaneous\"])\n",
    "color_list = np.array(['red', 'blue'])"
   ]
  },
  {
   "cell_type": "code",
   "execution_count": 5,
   "metadata": {},
   "outputs": [],
   "source": [
    "# This method is copied from StackOverFlow, courtesy of tmdavison (https://stackoverflow.com/questions/37852462/filled-errorbars-in-matplotlib-rectangles/37852631)\n",
    "def makeErrorBoxes(xdata,ydata,xerror,yerror,fc=None,ec='None',alpha=0.3, legendlabel=None):\n",
    "    \n",
    "    if fc is None:\n",
    "        fc = np.array(['red' for i in xdata])\n",
    "    \n",
    "    # Create list for all the error patches\n",
    "    errorboxes = []\n",
    "\n",
    "    # Loop over data points; create box from errors at each point\n",
    "    for xc,yc,xe,ye,ci in zip(xdata,ydata,xerror.T,yerror.T,fc):\n",
    "        rect = Rectangle((xc-xe[0],yc-ye[0]),xe.sum(),ye.sum())\n",
    "        errorboxes.append(rect)\n",
    "\n",
    "    # Create patch collection with specified colour/alpha\n",
    "    pc = PatchCollection(errorboxes,alpha=alpha,edgecolor=ec, facecolor=fc, label = legendlabel)\n",
    "    #if legendlabel is not None:\n",
    "        #pc.set_label(legendlabel)\n",
    "    \n",
    "    # Add collection to axes\n",
    "    ax.add_collection(pc)\n",
    "    ax.legend()"
   ]
  },
  {
   "cell_type": "code",
   "execution_count": 6,
   "metadata": {},
   "outputs": [],
   "source": [
    "# param is the paramg whose results are being sampled, infiles is a list of files from which to get the \n",
    "# parameter, and is a 2d array with axis 0 of length the same as len(models) and with axis 1 of length same as len(labels)\n",
    "def compare(param, infiles, models, labels, colors, ylim, graphtitle, outfile, title_fontsize, axislabel_fontsize, ticklabel_fontsize, legend_fontsize):\n",
    "    x_vals = np.zeros(len(models))\n",
    "    x_errs = np.zeros([2,len(models)])\n",
    "    param_vals = np.zeros([len(models), len(labels)])\n",
    "    param_errs = np.zeros([2, len(models), len(labels)])\n",
    "    \n",
    "    for i in range(len(models)):\n",
    "        x_vals[i] = i\n",
    "        x_errs[0][i] = 0.1\n",
    "        x_errs[1][i] = 0.1\n",
    "        for j in range(len(labels)):\n",
    "            posterior_file = open(infiles[i][j], 'rb')\n",
    "            posteriors = pickle.load(posterior_file)\n",
    "            posterior_file.close()\n",
    "            param_vals[i][j] = posteriors[param].mean\n",
    "            param_errs[0][i][j] = posteriors[param].sdev\n",
    "            param_errs[1][i][j] = posteriors[param].sdev\n",
    "            \n",
    "    xlim_lowerbound = -0.5\n",
    "    xlim_upperbound = len(models) - 0.5\n",
    "    \n",
    "    xtick_nums = np.array([i for i in range(int(x_vals[0]), len(models))])\n",
    "    xtick_strings = models\n",
    "    \n",
    "    ax.set_title(graphtitle, fontsize = title_fontsize)\n",
    "    ax.set_xticks(xtick_nums)\n",
    "    ax.set_xticklabels(xtick_strings)\n",
    "    \n",
    "    ax.tick_params(axis='x', labelsize= ticklabel_fontsize)\n",
    "    ax.tick_params(axis='y', labelsize= ticklabel_fontsize)\n",
    "    \n",
    "    legend_objects = []\n",
    "    for j in range(len(labels)):\n",
    "        parampatch = Line2D([0], [0], linestyle=\"none\", marker=\"s\", alpha=1.0, markersize=10, markerfacecolor=colors[j])\n",
    "        makeErrorBoxes(x_vals+0.2*j, param_vals[:,j], x_errs, param_errs[:,:,j], fc=[colors[j] for i in range(len(xtick_nums))], legendlabel=labels[j]) \n",
    "        legend_objects.append(parampatch)\n",
    "        \n",
    "    makeErrorBoxes(x_vals, param_vals[:,0], x_errs, param_errs[:,:,0], fc=['red'], legendlabel=[\"posterior\"])\n",
    "    plt.legend(legend_objects, labels, loc = 'upper right', fontsize=legend_fontsize)\n",
    "    ax.set_xlim([xlim_lowerbound, xlim_upperbound])\n",
    "    ax.set_ylim(ylim)\n",
    "    \n",
    "    ax.set_xlabel(\"fit-samples, tau-cut\", fontsize=axislabel_fontsize)\n",
    "    \n",
    "    plt.savefig(outfile)\n",
    "    \n",
    "    plt.show() \n",
    "    \n",
    "    plt.clf()\n"
   ]
  },
  {
   "cell_type": "code",
   "execution_count": 7,
   "metadata": {},
   "outputs": [
    {
     "ename": "FileNotFoundError",
     "evalue": "[Errno 2] No such file or directory: 'all_postchained_out.obj'",
     "output_type": "error",
     "traceback": [
      "\u001b[0;31m---------------------------------------------------------------------------\u001b[0m",
      "\u001b[0;31mFileNotFoundError\u001b[0m                         Traceback (most recent call last)",
      "\u001b[0;32m<ipython-input-7-de191e233ae8>\u001b[0m in \u001b[0;36m<module>\u001b[0;34m\u001b[0m\n\u001b[1;32m      1\u001b[0m \u001b[0mfig\u001b[0m \u001b[0;34m=\u001b[0m \u001b[0mplt\u001b[0m\u001b[0;34m.\u001b[0m\u001b[0mfigure\u001b[0m\u001b[0;34m(\u001b[0m\u001b[0mfigsize\u001b[0m\u001b[0;34m=\u001b[0m\u001b[0;34m(\u001b[0m\u001b[0;36m15\u001b[0m\u001b[0;34m,\u001b[0m \u001b[0;36m7\u001b[0m\u001b[0;34m)\u001b[0m\u001b[0;34m)\u001b[0m\u001b[0;34m\u001b[0m\u001b[0;34m\u001b[0m\u001b[0m\n\u001b[1;32m      2\u001b[0m \u001b[0max\u001b[0m \u001b[0;34m=\u001b[0m \u001b[0mfig\u001b[0m\u001b[0;34m.\u001b[0m\u001b[0madd_axes\u001b[0m\u001b[0;34m(\u001b[0m\u001b[0;34m[\u001b[0m\u001b[0;36m0.1\u001b[0m\u001b[0;34m,\u001b[0m \u001b[0;36m0.1\u001b[0m\u001b[0;34m,\u001b[0m \u001b[0;36m0.8\u001b[0m\u001b[0;34m,\u001b[0m \u001b[0;36m0.8\u001b[0m\u001b[0;34m]\u001b[0m\u001b[0;34m)\u001b[0m\u001b[0;34m\u001b[0m\u001b[0;34m\u001b[0m\u001b[0m\n\u001b[0;32m----> 3\u001b[0;31m \u001b[0mcompare\u001b[0m\u001b[0;34m(\u001b[0m\u001b[0;34m'gA3_00'\u001b[0m\u001b[0;34m,\u001b[0m \u001b[0mfile_list\u001b[0m\u001b[0;34m,\u001b[0m \u001b[0mmodel_list\u001b[0m\u001b[0;34m,\u001b[0m \u001b[0mlabel_list\u001b[0m\u001b[0;34m,\u001b[0m \u001b[0mcolor_list\u001b[0m\u001b[0;34m,\u001b[0m \u001b[0;34m[\u001b[0m\u001b[0;36m1.05\u001b[0m\u001b[0;34m,\u001b[0m \u001b[0;36m1.31\u001b[0m\u001b[0;34m]\u001b[0m\u001b[0;34m,\u001b[0m \u001b[0;34m\"Comparison of models, g_{A300}\"\u001b[0m\u001b[0;34m,\u001b[0m \u001b[0;34m\"g_{A300}_modelcomp.png\"\u001b[0m\u001b[0;34m,\u001b[0m \u001b[0;36m30\u001b[0m\u001b[0;34m,\u001b[0m \u001b[0;36m20\u001b[0m\u001b[0;34m,\u001b[0m \u001b[0;36m16\u001b[0m\u001b[0;34m,\u001b[0m \u001b[0;36m13\u001b[0m\u001b[0;34m)\u001b[0m\u001b[0;34m\u001b[0m\u001b[0;34m\u001b[0m\u001b[0m\n\u001b[0m\u001b[1;32m      4\u001b[0m \u001b[0;34m\u001b[0m\u001b[0m\n\u001b[1;32m      5\u001b[0m \u001b[0mfig\u001b[0m \u001b[0;34m=\u001b[0m \u001b[0mplt\u001b[0m\u001b[0;34m.\u001b[0m\u001b[0mfigure\u001b[0m\u001b[0;34m(\u001b[0m\u001b[0mfigsize\u001b[0m\u001b[0;34m=\u001b[0m\u001b[0;34m(\u001b[0m\u001b[0;36m15\u001b[0m\u001b[0;34m,\u001b[0m \u001b[0;36m7\u001b[0m\u001b[0;34m)\u001b[0m\u001b[0;34m)\u001b[0m\u001b[0;34m\u001b[0m\u001b[0;34m\u001b[0m\u001b[0m\n",
      "\u001b[0;32m<ipython-input-6-82d3561bbd1c>\u001b[0m in \u001b[0;36mcompare\u001b[0;34m(param, infiles, models, labels, colors, ylim, graphtitle, outfile, title_fontsize, axislabel_fontsize, ticklabel_fontsize, legend_fontsize)\u001b[0m\n\u001b[1;32m     12\u001b[0m         \u001b[0mx_errs\u001b[0m\u001b[0;34m[\u001b[0m\u001b[0;36m1\u001b[0m\u001b[0;34m]\u001b[0m\u001b[0;34m[\u001b[0m\u001b[0mi\u001b[0m\u001b[0;34m]\u001b[0m \u001b[0;34m=\u001b[0m \u001b[0;36m0.1\u001b[0m\u001b[0;34m\u001b[0m\u001b[0;34m\u001b[0m\u001b[0m\n\u001b[1;32m     13\u001b[0m         \u001b[0;32mfor\u001b[0m \u001b[0mj\u001b[0m \u001b[0;32min\u001b[0m \u001b[0mrange\u001b[0m\u001b[0;34m(\u001b[0m\u001b[0mlen\u001b[0m\u001b[0;34m(\u001b[0m\u001b[0mlabels\u001b[0m\u001b[0;34m)\u001b[0m\u001b[0;34m)\u001b[0m\u001b[0;34m:\u001b[0m\u001b[0;34m\u001b[0m\u001b[0;34m\u001b[0m\u001b[0m\n\u001b[0;32m---> 14\u001b[0;31m             \u001b[0mposterior_file\u001b[0m \u001b[0;34m=\u001b[0m \u001b[0mopen\u001b[0m\u001b[0;34m(\u001b[0m\u001b[0minfiles\u001b[0m\u001b[0;34m[\u001b[0m\u001b[0mi\u001b[0m\u001b[0;34m]\u001b[0m\u001b[0;34m[\u001b[0m\u001b[0mj\u001b[0m\u001b[0;34m]\u001b[0m\u001b[0;34m,\u001b[0m \u001b[0;34m'rb'\u001b[0m\u001b[0;34m)\u001b[0m\u001b[0;34m\u001b[0m\u001b[0;34m\u001b[0m\u001b[0m\n\u001b[0m\u001b[1;32m     15\u001b[0m             \u001b[0mposteriors\u001b[0m \u001b[0;34m=\u001b[0m \u001b[0mpickle\u001b[0m\u001b[0;34m.\u001b[0m\u001b[0mload\u001b[0m\u001b[0;34m(\u001b[0m\u001b[0mposterior_file\u001b[0m\u001b[0;34m)\u001b[0m\u001b[0;34m\u001b[0m\u001b[0;34m\u001b[0m\u001b[0m\n\u001b[1;32m     16\u001b[0m             \u001b[0mposterior_file\u001b[0m\u001b[0;34m.\u001b[0m\u001b[0mclose\u001b[0m\u001b[0;34m(\u001b[0m\u001b[0;34m)\u001b[0m\u001b[0;34m\u001b[0m\u001b[0;34m\u001b[0m\u001b[0m\n",
      "\u001b[0;31mFileNotFoundError\u001b[0m: [Errno 2] No such file or directory: 'all_postchained_out.obj'"
     ]
    },
    {
     "data": {
      "image/png": "[encoded data removed]",
      "text/plain": [
       "<Figure size 1080x504 with 1 Axes>"
      ]
     },
     "metadata": {
      "needs_background": "light"
     },
     "output_type": "display_data"
    }
   ],
   "source": [
    "fig = plt.figure(figsize=(15, 7))\n",
    "ax = fig.add_axes([0.1, 0.1, 0.8, 0.8])\n",
    "compare('gA3_00', file_list, model_list, label_list, color_list, [1.05, 1.31], \"Comparison of models, g_{A300}\", \"g_{A300}_modelcomp.png\", 30, 20, 16, 13)\n",
    "\n",
    "fig = plt.figure(figsize=(15, 7))\n",
    "ax = fig.add_axes([0.1, 0.1, 0.8, 0.8])\n",
    "compare('gV4_00', file_list, model_list, label_list, color_list, [0.97, 1.06], \"Comparison of models, g_{V400}\", \"g_{V400}_modelcomp.png\", 30, 20, 16, 13)\n",
    "\n",
    "fig = plt.figure(figsize=(15, 7))\n",
    "ax = fig.add_axes([0.1, 0.1, 0.8, 0.8])\n",
    "compare('E0', file_list, model_list, label_list, color_list, [0.64, 0.67], \"Comparison of models, E0\", \"E0_modelcomp.png\", 30, 20, 16, 13)\n"
   ]
  },
  {
   "cell_type": "code",
   "execution_count": 104,
   "metadata": {},
   "outputs": [],
   "source": [
    "# Creates a table to compare values of a certain parameter\n",
    "# Columns = models; rows = 'labels' (simultaneous vs. chained)\n",
    "def compare_table(param, infiles, models, labels):\n",
    "    param_vals = np.zeros([len(models), len(labels)])\n",
    "    param_errs = np.zeros([len(models), len(labels)])\n",
    "    \n",
    "    for i in range(len(models)):\n",
    "        for j in range(len(labels)):\n",
    "            posterior_file = open(infiles[i][j], 'rb')\n",
    "            posteriors = pickle.load(posterior_file)\n",
    "            posterior_file.close()\n",
    "            param_vals[i][j] = posteriors[param].mean\n",
    "            param_errs[i][j] = posteriors[param].sdev\n",
    "    \n",
    "    tab_param = {}\n",
    "\n",
    "\n",
    "    for j in range(len(labels)):\n",
    "        col_param = []\n",
    "        for i in range(len(models)):\n",
    "            col_param.append(\"{0:.4f}+/-{1:.4f}\".format(param_vals[i][j], param_errs[i][j]))\n",
    "        \n",
    "        tab_param.update({'{0:s}'.format(labels[j]):col_param})\n",
    "    \n",
    "    table = pd.DataFrame(tab_param)\n",
    "\n",
    "    table.index = models\n",
    "    print(\"Table of \", param, \" values\")\n",
    "    print(table)"
   ]
  },
  {
   "cell_type": "code",
   "execution_count": 105,
   "metadata": {},
   "outputs": [
    {
     "name": "stdout",
     "output_type": "stream",
     "text": [
      "Table of  gA3_00  values\n",
      "                              chained     simultaneous\n",
      "2pt-3pt,tau1          1.2169+/-0.0674  1.1752+/-0.1059\n",
      "2pt-3pt,tau2          1.2169+/-0.0674  1.1712+/-0.0916\n",
      "2pt-FH-3pt,tau1       1.2542+/-0.0080  1.2438+/-0.0041\n",
      "2pt-FH-3pt,tau2       1.2237+/-0.0118  1.2521+/-0.0085\n",
      "2pt-ssub-3pt,tau1     1.2681+/-0.0309  1.2662+/-0.0049\n",
      "2pt-ssub-3pt,tau2     1.2292+/-0.0134  1.1875+/-0.1041\n",
      "2pt-ssub-FH-3pt,tau1  1.2652+/-0.0070  1.2724+/-0.0080\n",
      "2pt-ssub-FH-3pt,tau2  1.2350+/-0.0124  1.2021+/-0.0427\n"
     ]
    }
   ],
   "source": [
    "compare_table('gA3_00', file_list, model_list, label_list)"
   ]
  },
  {
   "cell_type": "code",
   "execution_count": 106,
   "metadata": {},
   "outputs": [
    {
     "name": "stdout",
     "output_type": "stream",
     "text": [
      "Table of  gV4_00  values\n",
      "                              chained     simultaneous\n",
      "2pt-3pt,tau1          1.0251+/-0.0195  1.0271+/-0.0263\n",
      "2pt-3pt,tau2          1.0251+/-0.0195  0.9961+/-0.0169\n",
      "2pt-FH-3pt,tau1       1.0199+/-0.0007  1.0178+/-0.0004\n",
      "2pt-FH-3pt,tau2       1.0188+/-0.0014  1.0202+/-0.0008\n",
      "2pt-ssub-3pt,tau1     1.0119+/-0.0054  1.0132+/-0.0016\n",
      "2pt-ssub-3pt,tau2     1.0128+/-0.0035  1.0027+/-0.0186\n",
      "2pt-ssub-FH-3pt,tau1  1.0197+/-0.0007  1.0114+/-0.0018\n",
      "2pt-ssub-FH-3pt,tau2  1.0198+/-0.0014  1.0131+/-0.0044\n"
     ]
    }
   ],
   "source": [
    "compare_table('gV4_00', file_list, model_list, label_list)"
   ]
  },
  {
   "cell_type": "code",
   "execution_count": 107,
   "metadata": {},
   "outputs": [
    {
     "name": "stdout",
     "output_type": "stream",
     "text": [
      "Table of  E0  values\n",
      "                              chained     simultaneous\n",
      "2pt-3pt,tau1          0.6600+/-0.0038  0.6576+/-0.0071\n",
      "2pt-3pt,tau2          0.6600+/-0.0038  0.6510+/-0.0092\n",
      "2pt-FH-3pt,tau1       0.6609+/-0.0034  0.6613+/-0.0028\n",
      "2pt-FH-3pt,tau2       0.6596+/-0.0022  0.6561+/-0.0056\n",
      "2pt-ssub-3pt,tau1     0.6617+/-0.0034  0.6605+/-0.0008\n",
      "2pt-ssub-3pt,tau2     0.6593+/-0.0023  0.6519+/-0.0099\n",
      "2pt-ssub-FH-3pt,tau1  0.6615+/-0.0035  0.6589+/-0.0009\n",
      "2pt-ssub-FH-3pt,tau2  0.6599+/-0.0022  0.6611+/-0.0034\n"
     ]
    }
   ],
   "source": [
    "compare_table('E0', file_list, model_list, label_list)"
   ]
  },
  {
   "cell_type": "code",
   "execution_count": null,
   "metadata": {},
   "outputs": [],
   "source": []
  }
 ],
 "metadata": {
  "kernelspec": {
   "display_name": "Python 3",
   "language": "python",
   "name": "python3"
  },
  "language_info": {
   "codemirror_mode": {
    "name": "ipython",
    "version": 3
   },
   "file_extension": ".py",
   "mimetype": "text/x-python",
   "name": "python",
   "nbconvert_exporter": "python",
   "pygments_lexer": "ipython3",
   "version": "3.8.5"
  }
 },
 "nbformat": 4,
 "nbformat_minor": 4
}
