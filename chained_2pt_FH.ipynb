{
 "cells": [
  {
   "cell_type": "markdown",
   "metadata": {},
   "source": [
    "# This notebook does a chained fit of 2-point and Feynman-Hellman"
   ]
  },
  {
   "cell_type": "code",
   "execution_count": 49,
   "metadata": {},
   "outputs": [],
   "source": [
    "import numpy as np\n",
    "import pandas as pd\n",
    "from mpl_toolkits import mplot3d\n",
    "import matplotlib.pyplot as plt"
   ]
  },
  {
   "cell_type": "code",
   "execution_count": 50,
   "metadata": {},
   "outputs": [],
   "source": [
    "import gvar as gv\n",
    "import h5py\n",
    "import lsqfit\n",
    "import h5data_methods as h5_dm"
   ]
  },
  {
   "cell_type": "code",
   "execution_count": 51,
   "metadata": {},
   "outputs": [],
   "source": [
    "import pickle"
   ]
  },
  {
   "cell_type": "code",
   "execution_count": 52,
   "metadata": {},
   "outputs": [
    {
     "data": {
      "text/plain": [
       "array([ 3,  4,  5,  6,  7,  8,  9, 10, 11, 12])"
      ]
     },
     "execution_count": 52,
     "metadata": {},
     "output_type": "execute_result"
    }
   ],
   "source": [
    "# Constants\n",
    "\n",
    "#Physical constants\n",
    "hbarc = 197.3 # MeV fm\n",
    "a = 0.12\n",
    "\n",
    "# Pion mass\n",
    "mpi = 0.1885\n",
    "#mpi = 0.2\n",
    "\n",
    "# Plot constants\n",
    "t_min_plt = 1\n",
    "t_max_plt = 25\n",
    "\n",
    "# Array of tsep values\n",
    "tsep_vals = np.arange(3,13,1)\n",
    "tsep_vals"
   ]
  },
  {
   "cell_type": "code",
   "execution_count": 53,
   "metadata": {},
   "outputs": [],
   "source": [
    "def Ei(n_selec, p):\n",
    "    Ea = p['E0']\n",
    "    for l in range(1, n_selec+1):\n",
    "        Ea += p['dE{}'.format(l)]\n",
    "        \n",
    "    #print(Ea)\n",
    "    return Ea"
   ]
  },
  {
   "cell_type": "code",
   "execution_count": 54,
   "metadata": {},
   "outputs": [],
   "source": [
    "data = {}\n",
    "data['2pt'] = h5_dm.get_2pt(\"a12m310_a_avg.h5\")\n",
    "data['2pt_SS'] = data['2pt'][:,:,0]\n",
    "data['2pt_PS'] = data['2pt'][:,:,1]\n",
    "data['3pt_A3'] = h5_dm.get_3pt(\"a12m310_a_avg.h5\", \"A3\", 3, 13)\n",
    "data['3pt_V4'] = h5_dm.get_3pt(\"a12m310_a_avg.h5\", \"V4\", 3, 13)\n",
    "\n"
   ]
  },
  {
   "cell_type": "code",
   "execution_count": 55,
   "metadata": {},
   "outputs": [
    {
     "name": "stderr",
     "output_type": "stream",
     "text": [
      "<ipython-input-55-f44cb866a54c>:17: RuntimeWarning: invalid value encountered in log\n",
      "  gv_avg_data['2pt_meff'] = np.log(np.array([gv_avg_data['2pt'][j,:]/gv_avg_data['2pt'][j+1,:] for j in range(63)]))\n",
      "<ipython-input-55-f44cb866a54c>:18: RuntimeWarning: invalid value encountered in log\n",
      "  gv_avg_data['2pt_SS_meff'] = np.log(np.array([gv_avg_data['2pt_SS'][j]/gv_avg_data['2pt_SS'][j+1] for j in range(63)]))\n",
      "<ipython-input-55-f44cb866a54c>:19: RuntimeWarning: invalid value encountered in log\n",
      "  gv_avg_data['2pt_PS_meff'] = np.log(np.array([gv_avg_data['2pt_PS'][j]/gv_avg_data['2pt_PS'][j+1] for j in range(63)]))\n",
      "<ipython-input-55-f44cb866a54c>:21: RuntimeWarning: invalid value encountered in sqrt\n",
      "  gv_avg_data['2pt_zSeff'] = np.array([np.sqrt(np.exp(gv_avg_data['2pt_SS_meff'][t]*t)*gv_avg_data['2pt_SS'][t]) for t in range(63)])\n"
     ]
    }
   ],
   "source": [
    "gv_avg_data = gv.BufferDict()\n",
    "gv_avg_data = gv.dataset.avg_data(data)\n",
    "\n",
    "# Calculate the ratio between 3-point and 2-point data, for both A3 and V4\n",
    "gv_avg_data['C_ratio_A3'] = np.array([ [gv_avg_data['3pt_A3'][i][j]/gv_avg_data['2pt_SS'][i+tsep_vals[0]] for j in range(1, i+3)] for i in range(len(tsep_vals))])\n",
    "gv_avg_data['Csum_A3'] = np.array([np.sum(gv_avg_data['3pt_A3'][i][1:i+3]) for i in range(len(tsep_vals))])\n",
    "gv_avg_data['C^FH_A3'] = np.array([ (gv_avg_data['Csum_A3'][i + 1]/gv_avg_data['2pt_SS'][i + tsep_vals[0] + 1]) - (gv_avg_data['Csum_A3'][i]/gv_avg_data['2pt_SS'][i + tsep_vals[0]]) for i in range(len(tsep_vals)-1)])\n",
    "\n",
    "gv_avg_data['C_ratio_V4'] = np.array([ [gv_avg_data['3pt_V4'][i][j]/gv_avg_data['2pt_SS'][i+tsep_vals[0]] for j in range(1, i+3)] for i in range(len(tsep_vals))])\n",
    "gv_avg_data['Csum_V4'] = np.array([np.sum(gv_avg_data['3pt_V4'][i][1:i+3]) for i in range(len(tsep_vals))])\n",
    "gv_avg_data['C^FH_V4'] = np.array([ (gv_avg_data['Csum_V4'][i + 1]/gv_avg_data['2pt_SS'][i + tsep_vals[0] + 1]) - (gv_avg_data['Csum_V4'][i]/gv_avg_data['2pt_SS'][i + tsep_vals[0]]) for i in range(len(tsep_vals)-1)])\n",
    "\n",
    "# The A3 and V4 3-point and Feynman-Hellman samples are combined into arrays of (A3, V4) pairs \n",
    "gv_avg_data['3pt_combined'] = np.array([ [ [gv_avg_data['3pt_A3'][i][j], gv_avg_data['3pt_V4'][i][j]] for j in range(len(gv_avg_data['3pt_A3'][i]))] for i in range(len(gv_avg_data['3pt_A3']))])\n",
    "gv_avg_data['C^FH_combined'] = np.transpose(np.append([gv_avg_data['C^FH_A3'],], [gv_avg_data['C^FH_V4'],], axis = 0))\n",
    "\n",
    "gv_avg_data['2pt_meff'] = np.log(np.array([gv_avg_data['2pt'][j,:]/gv_avg_data['2pt'][j+1,:] for j in range(63)]))\n",
    "gv_avg_data['2pt_SS_meff'] = np.log(np.array([gv_avg_data['2pt_SS'][j]/gv_avg_data['2pt_SS'][j+1] for j in range(63)]))\n",
    "gv_avg_data['2pt_PS_meff'] = np.log(np.array([gv_avg_data['2pt_PS'][j]/gv_avg_data['2pt_PS'][j+1] for j in range(63)]))\n",
    "\n",
    "gv_avg_data['2pt_zSeff'] = np.array([np.sqrt(np.exp(gv_avg_data['2pt_SS_meff'][t]*t)*gv_avg_data['2pt_SS'][t]) for t in range(63)])\n",
    "gv_avg_data['2pt_zPeff'] = np.array([np.exp(gv_avg_data['2pt_PS_meff'][t]*t)*gv_avg_data['2pt_PS'][t]/gv_avg_data['2pt_zSeff'][t] for t in range(63)])"
   ]
  },
  {
   "cell_type": "code",
   "execution_count": 56,
   "metadata": {},
   "outputs": [],
   "source": [
    "# Create functions to extract the necessary fit-parameters for each function, and to insert priors specific to a function into a more complete parameter list\n",
    "# Create methods for forming a parameter subset for each of the 3 functions: 2-point, 3-point, Feynman-Hellman\n",
    "def param_2pt(p):\n",
    "    sub_p = gv.BufferDict()\n",
    "    sub_p['E0'] = p['E0']\n",
    "    sub_p['Z0'] = p['Z0']\n",
    "    sub_p['Ztilde0'] = p['Ztilde0']\n",
    "    \n",
    "    for k in range(1, num_zs):\n",
    "        sub_p['Z{}'.format(k)] = p['Z{}'.format(k)]\n",
    "        sub_p['Ztilde{}'.format(k)] = p['Ztilde{}'.format(k)]\n",
    "        sub_p['log(dE{})'.format(k)] = p['log(dE{})'.format(k)]\n",
    "        \n",
    "    return sub_p\n",
    "      \n",
    "def param_3pt(p):\n",
    "    sub_p = gv.BufferDict()\n",
    "    sub_p['E0'] = p['E0']\n",
    "    sub_p['Z0'] = p['Z0']\n",
    "    \n",
    "    for k in range(1, num_zs):\n",
    "        sub_p['Z{}'.format(k)] = p['Z{}'.format(k)]\n",
    "        sub_p['log(dE{})'.format(k)] = p['log(dE{})'.format(k)]\n",
    "        \n",
    "    for n in range(num_zs):\n",
    "        for m in range(num_zs):\n",
    "            sub_p['gA3_{0}{1}'.format(n, m)] = p['gA3_{0}{1}'.format(n, m)]\n",
    "            sub_p['gV4_{0}{1}'.format(n, m)] = p['gV4_{0}{1}'.format(n, m)]\n",
    "    \n",
    "    return sub_p\n",
    "\n",
    "def param_FH(p):\n",
    "    sub_p = gv.BufferDict()\n",
    "    sub_p['E0'] = p['E0']\n",
    "    sub_p['Z0'] = p['Z0']\n",
    "    \n",
    "    for k in range(1, num_states_FH - 1):\n",
    "        sub_p['Z{}'.format(k)] = p['Z{}'.format(k)]\n",
    "        sub_p['log(dE{})'.format(k)] = p['log(dE{})'.format(k)]\n",
    "        \n",
    "    sub_p['Z{}'.format(num_states_FH - 1)] = p['Z_FHmax']\n",
    "    sub_p['log(dE{})'.format(num_states_FH - 1)] = p['log(FH_dEmax)']\n",
    "    \n",
    "    for n in range(num_states_FH-1):\n",
    "        for m in range(num_states_FH-1):\n",
    "                \n",
    "            sub_p['gA3_{0}{1}'.format(n, m)] = p['gA3_{0}{1}'.format(n, m)]\n",
    "            sub_p['gV4_{0}{1}'.format(n, m)] = p['gV4_{0}{1}'.format(n, m)]\n",
    "            \n",
    "    for n in range(num_states_FH-1):\n",
    "        sub_p['gA3_{0}{1}'.format(n, num_states_FH-1)] = p['gA3_{}FHmax'.format(n)]\n",
    "        sub_p['gA3_{0}{1}'.format(num_states_FH-1, n)] = p['gA3_FHmax{}'.format(n)]\n",
    "        sub_p['gV4_{0}{1}'.format(n, num_states_FH-1)] = p['gV4_{}FHmax'.format(n)]\n",
    "        sub_p['gV4_{0}{1}'.format(num_states_FH-1, n)] = p['gV4_FHmax{}'.format(n)]\n",
    "        \n",
    "    sub_p['gA3_{0}{1}'.format(num_states_FH-1, num_states_FH-1)] = p['gA3_FHmaxFHmax']\n",
    "    sub_p['gV4_{0}{1}'.format(num_states_FH-1, num_states_FH-1)] = p['gV4_FHmaxFHmax']\n",
    "    \n",
    "    return sub_p"
   ]
  },
  {
   "cell_type": "code",
   "execution_count": 57,
   "metadata": {},
   "outputs": [],
   "source": [
    "# Now, create some methods for setting the full posterior, both used and unused variables \n",
    "def posterior_2pt(partial_post, full_prior):\n",
    "    full_post = gv.BufferDict()\n",
    "    \n",
    "    full_post['E0'] = partial_post['E0']\n",
    "    full_post['Z0'] = partial_post['Z0']\n",
    "    full_post['Ztilde0'] = partial_post['Ztilde0']\n",
    "    \n",
    "    for k in range(1, num_zs):\n",
    "        full_post['Z{}'.format(k)] = partial_post['Z{}'.format(k)]\n",
    "        full_post['Ztilde{}'.format(k)] = partial_post['Ztilde{}'.format(k)]\n",
    "        full_post['log(dE{})'.format(k)] = partial_post['log(dE{})'.format(k)]\n",
    "        \n",
    "    for n in range(num_zs):\n",
    "        for m in range(num_zs):\n",
    "            full_post['gA3_{0}{1}'.format(n, m)] = full_prior['gA3_{0}{1}'.format(n, m)]\n",
    "            full_post['gV4_{0}{1}'.format(n, m)] = full_prior['gV4_{0}{1}'.format(n, m)]\n",
    "            \n",
    "    full_post['Z_FHmax'] = full_prior['Z_FHmax']\n",
    "    full_post['log(FH_dEmax)'] = full_prior['log(FH_dEmax)']\n",
    "        \n",
    "    for n in range(num_states_FH-1):\n",
    "        full_post['gA3_FHmax{}'.format(n)] = full_prior['gA3_FHmax{}'.format(n)]\n",
    "        full_post['gA3_{}FHmax'.format(n)] = full_prior['gA3_{}FHmax'.format(n)]\n",
    "        full_post['gV4_FHmax{}'.format(n)] = full_prior['gV4_FHmax{}'.format(n)]\n",
    "        full_post['gV4_{}FHmax'.format(n)] = full_prior['gV4_{}FHmax'.format(n)]\n",
    "        \n",
    "    full_post['gA3_FHmaxFHmax'] = full_prior['gA3_FHmaxFHmax']\n",
    "    full_post['gV4_FHmaxFHmax'] = full_prior['gV4_FHmaxFHmax']\n",
    "              \n",
    "    return full_post          \n",
    "              \n",
    "def posterior_3pt(partial_post, full_prior):\n",
    "    full_post = gv.BufferDict()\n",
    "    \n",
    "    full_post['E0'] = partial_post['E0']\n",
    "    full_post['Z0'] = partial_post['Z0']\n",
    "    full_post['Ztilde0'] = full_prior['Ztilde0']\n",
    "    \n",
    "    for k in range(1, num_zs):\n",
    "        full_post['log(dE{})'.format(k)] = partial_post['log(dE{})'.format(k)]\n",
    "        full_post['Z{}'.format(k)] = partial_post['Z{}'.format(k)]\n",
    "        full_post['Ztilde{}'.format(k)] = full_prior['Ztilde{}'.format(k)]\n",
    "        \n",
    "    for n in range(num_zs):\n",
    "        for m in range(num_zs):\n",
    "            full_post['gA3_{0}{1}'.format(n, m)] = partial_post['gA3_{0}{1}'.format(n, m)]\n",
    "            full_post['gV4_{0}{1}'.format(n, m)] = partial_post['gV4_{0}{1}'.format(n, m)]\n",
    "            \n",
    "    full_post['Z_FHmax'] = full_prior['Z_FHmax']\n",
    "    full_post['log(FH_dEmax)'] = full_prior['log(FH_dEmax)']\n",
    "    \n",
    "    for n in range(num_states_FH-1):\n",
    "        full_post['gA3_FHmax{}'.format(n)] = full_prior['gA3_FHmax{}'.format(n)]\n",
    "        full_post['gA3_{}FHmax'.format(n)] = full_prior['gA3_{}FHmax'.format(n)]\n",
    "        full_post['gV4_FHmax{}'.format(n)] = full_prior['gV4_FHmax{}'.format(n)]\n",
    "        full_post['gV4_{}FHmax'.format(n)] = full_prior['gV4_{}FHmax'.format(n)]\n",
    "        \n",
    "    full_post['gA3_FHmaxFHmax'] = full_prior['gA3_FHmaxFHmax']\n",
    "    full_post['gV4_FHmaxFHmax'] = full_prior['gV4_FHmaxFHmax']\n",
    "              \n",
    "    return full_post\n",
    "              \n",
    "def posterior_FH(partial_post, full_prior):\n",
    "    full_post['E0'] = partial_post['E0']\n",
    "    full_post['Z0'] = partial_post['Z0']\n",
    "    full_post['Ztilde0'] = full_prior['Ztilde0']\n",
    "    \n",
    "    for k in range(1, num_zs):\n",
    "        full_post['log(dE{})'.format(k)] = full_prior['log(dE{})'.format(k)]\n",
    "        full_post['Z{}'.format(k)] = full_prior['Z{}'.format(k)]\n",
    "        full_post['Ztilde{}'.format(k)] = full_prior['Ztilde{}'.format(k)] \n",
    "        \n",
    "    for k in range(1, num_states_FH - 1):\n",
    "        full_post['log(dE{})'.format(k)] = partial_post['log(dE{})'.format(k)]\n",
    "        full_post['Z{}'.format(k)] = partial_post['Z{}'.format(k)]\n",
    "        \n",
    "    for n in range(num_zs):\n",
    "        for m in range(num_zs):\n",
    "            full_post['gA3_{0}{1}'.format(n, m)] = full_prior['gA3_{0}{1}'.format(n, m)]\n",
    "            full_post['gV4_{0}{1}'.format(n, m)] = full_prior['gV4_{0}{1}'.format(n, m)]\n",
    "    \n",
    "    for n in range(num_states_FH-1):\n",
    "        for m in range(num_states_FH-1):    \n",
    "            full_post['gA3_{0}{1}'.format(n, m)] = partial_post['gA3_{0}{1}'.format(n, m)]\n",
    "            full_post['gV4_{0}{1}'.format(n, m)] = partial_post['gV4_{0}{1}'.format(n, m)]\n",
    "                        \n",
    "    full_post['Z_FHmax'] = partial_post['Z{}'.format(num_states_FH - 1)]\n",
    "    full_post['log(FH_dEmax)'] = partial_post['log(dE{})'.format(num_states_FH - 1)]\n",
    "              \n",
    "    for n in range(num_states_FH-1):\n",
    "        full_post['gA3_FHmax{}'.format(n)] = partial_post['gA3_{0}{1}'.format(num_states_FH-1, n)]\n",
    "        full_post['gA3_{}FHmax'.format(n)] = partial_post['gA3_{0}{1}'.format(n, num_states_FH-1)]\n",
    "        full_post['gV4_FHmax{}'.format(n)] = partial_post['gV4_{0}{1}'.format(num_states_FH-1, n)]\n",
    "        full_post['gV4_{}FHmax'.format(n)] = partial_post['gV4_{0}{1}'.format(n, num_states_FH-1)]\n",
    "        \n",
    "    full_post['gA3_FHmaxFHmax'] = partial_post['gA3_{0}{1}'.format(num_states_FH-1, num_states_FH-1)]\n",
    "    full_post['gV4_FHmaxFHmax'] = partial_post['gV4_{0}{1}'.format(num_states_FH-1, num_states_FH-1)]\n",
    "      \n",
    "    return full_post\n",
    "    "
   ]
  },
  {
   "cell_type": "code",
   "execution_count": 58,
   "metadata": {},
   "outputs": [],
   "source": [
    "num_zs = 1 #Order number of the n's\n",
    "# Log E: log of the energy.  \n",
    "# P is point (in the context of )\n",
    "\n",
    "def C_2pt(t, p):\n",
    "    \n",
    "    z = np.array([])\n",
    "    ztilde = np.array([])\n",
    "    E = np.array([])\n",
    "    for i in range(num_zs):\n",
    "        z = np.append(z, p['Z{}'.format(i)])\n",
    "        ztilde = np.append(ztilde, p['Ztilde{}'.format(i)])\n",
    "        E = np.append(E, Ei(i, p))\n",
    "        \n",
    "    \n",
    "    sum_pp = sum([z[i]*z[i]*np.exp(-E[i]*t) for i in range(num_zs)])\n",
    "    sum_ps = sum([z[i]*ztilde[i]*np.exp(-E[i]*t) for i in range(num_zs)])\n",
    "    \n",
    "    return np.transpose(np.array([[sum_pp], [sum_ps]]), axes=[2,0,1])\n",
    "\n",
    "def C_2pt_SS(t, p):\n",
    "    \n",
    "    z = np.array([])\n",
    "    E = np.array([])\n",
    "    for i in range(num_zs):\n",
    "        z = np.append(z, p['Z{}'.format(i)])\n",
    "        E = np.append(E, Ei(i, p))\n",
    "        \n",
    "    \n",
    "    sum_ss = sum([z[i]*z[i]*np.exp(-E[i]*t) for i in range(num_zs)])\n",
    "    \n",
    "    return np.array(sum_ss)\n",
    "\n",
    "def C_2pt_PS(t, p):\n",
    "    \n",
    "    z = np.array([])\n",
    "    ztilde = np.array([])\n",
    "    E = np.array([])\n",
    "    for i in range(num_zs):\n",
    "        z = np.append(z, p['Z{}'.format(i)])\n",
    "        ztilde = np.append(ztilde, p['Ztilde{}'.format(i)])\n",
    "        E = np.append(E, Ei(i, p))\n",
    "        \n",
    "    #print(\"z: \", z)\n",
    "    #print(\"ztilde: \", ztilde)\n",
    "    \n",
    "    sum_ps = sum([z[i]*ztilde[i]*np.exp(-E[i]*t) for i in range(num_zs)])\n",
    "    \n",
    "    return np.array(sum_ps)"
   ]
  },
  {
   "cell_type": "code",
   "execution_count": 59,
   "metadata": {},
   "outputs": [],
   "source": [
    "# Precondition: t is a 1-D numpy array of 2-element array like objects t[i] = (t_sep, tau)\n",
    "  \n",
    "    \n",
    "def C_3pt_A3(t, p):\n",
    "    #tsep = np.array([np.array([t[i][j][0] for j in range(len(t[i]))]) for i in range(len(t))])\n",
    "    #tau = np.array([np.array([t[i][j][1] for j in range(len(t[i]))]) for i in range(len(t))])\n",
    "    tsep, tau = np.transpose(t)\n",
    "    #print(\"tsep: \", tsep)\n",
    "    #print(\"tau: \", tau)\n",
    "    \n",
    "    result = p['Z0']*p['gA3_00']*p['Z0']*np.exp(-p[\"E0\"]*tsep)*np.exp(-(p[\"E0\"] - p[\"E0\"])*tau)\n",
    "    n = 0\n",
    "    m = 0\n",
    "    \n",
    "    if num_zs == 1:\n",
    "        return result\n",
    "    \n",
    "    m += 1\n",
    "    while n < num_zs:    \n",
    "        En = Ei(n, p)\n",
    "        Em = Ei(m, p) \n",
    "        result += p['Z{}'.format(n)]*p['gA3_{0}{1}'.format(n, m)]*p['Z{}'.format(m)]*np.exp(-En*tsep)*np.exp(-(Em - En)*tau)\n",
    "        m += 1\n",
    "        if m >= num_zs:\n",
    "            m = 0\n",
    "            n += 1\n",
    "            \n",
    "    #for n in range(num_zs):\n",
    "        #for m in range(num_zs):\n",
    "            #result += p['Z{}'.format(n)]*p['gA3_{0}{1}'.format(n, m)]*p['Z{}'.format(m)]*np.exp(-p[\"E{}\".format(n)]*tsep)*np.exp(-(p[\"E{}\".format(m)] - p[\"E{}\".format(n)])*tau)\n",
    "            # print out the dictionary indices which are called in this summation\n",
    "            #print(\"n = \", n, \"; m = \", m)\n",
    "            #print('Z{}'.format(n), \"*\", 'gA3_{0}{1}'.format(n, m), \"*\", 'Z{}'.format(m), \"*e^(-tsep*\", \"E{}\".format(n), \")*e^(-tau*(\", \"E{}\".format(m), \"-\", \"E{}\".format(n), \")\")\n",
    "            \n",
    "    return result\n",
    "\n",
    "\n",
    "\n",
    "def C_3pt_V4(t, p):\n",
    "    #tsep = np.array([np.array([t[i][j][0] for j in range(len(t[i]))]) for i in range(len(t))])\n",
    "    #tau = np.array([np.array([t[i][j][1] for j in range(len(t[i]))]) for i in range(len(t))])\n",
    "    tsep, tau = np.transpose(t)\n",
    "    #print(\"tsep: \", tsep)\n",
    "    #print(\"tau: \", tau)\n",
    "    \n",
    "    result = p['Z0']*p['gV4_00']*p['Z0']*np.exp(-p[\"E0\"]*tsep)*np.exp(-(p[\"E0\"] - p[\"E0\"])*tau)\n",
    "    \n",
    "    n = 0\n",
    "    m = 0\n",
    "    if num_zs == 1:\n",
    "        return result\n",
    "    \n",
    "    m += 1\n",
    "    while n < num_zs:\n",
    "        En = Ei(n, p)\n",
    "        Em = Ei(m, p)\n",
    "        result += p['Z{}'.format(n)]*p['gV4_{0}{1}'.format(n, m)]*p['Z{}'.format(m)]*np.exp(-En*tsep)*np.exp(-(Em - En)*tau)\n",
    "        m += 1\n",
    "        if m >= num_zs:\n",
    "            m = 0\n",
    "            n += 1\n",
    "    \n",
    "    \n",
    "    #for n in range(num_zs):\n",
    "        #for m in range(num_zs):\n",
    "            #result += p['Z{}'.format(n)]*p['gV4_{0}{1}'.format(n, m)]*p['Z{}'.format(m)]*np.exp(-p[\"E{}\".format(n)]*tsep)*np.exp(-(p[\"E{}\".format(m)] - p[\"E{}\".format(n)])*tau)\n",
    "            # print out the dictionary indices which are called in this summation\n",
    "            #print(\"n = \", n, \"; m = \", m)\n",
    "            #print('Z{}'.format(n), \"*\", 'gV4_{0}{1}'.format(n, m), \"*\", 'Z{}'.format(m), \"*e^(-tsep*\", \"E{}\".format(n), \")*e^(-tau*(\", \"E{}\".format(m), \"-\", \"E{}\".format(n), \")\")\n",
    "            \n",
    "    return result\n",
    "\n",
    "def C_3pt(t, p):\n",
    "    A3 = C_3pt_A3(t, p)\n",
    "    V4 = C_3pt_V4(t, p)\n",
    "    \n",
    "    return np.transpose(np.array([[A3], [V4]]), axes=[2,0,1])"
   ]
  },
  {
   "cell_type": "code",
   "execution_count": 60,
   "metadata": {},
   "outputs": [],
   "source": [
    "num_states_FH = 1 # The number of states that the Feynman-Hellman sum needs\n",
    "\n",
    "def C_2pt_SS_aux(t, p, n_local):\n",
    "    \n",
    "    z = np.array([])\n",
    "    E = np.array([])\n",
    "    for i in range(n_local):\n",
    "        z = np.append(z, p['Z{}'.format(i)])\n",
    "        E = np.append(E, Ei(i, p))\n",
    "        \n",
    "    \n",
    "    sum_ss = sum([z[i]*z[i]*np.exp(-E[i]*t) for i in range(n_local)])\n",
    "    \n",
    "    return np.array(sum_ss)\n",
    "\n",
    "def Csum_A3(t, p, n_local):\n",
    "    result = 0\n",
    "    for n in range(n_local):\n",
    "        En = Ei(n, p)\n",
    "        result += (t - 1) * p['Z{}'.format(n)]*p['gA3_{0}{1}'.format(n, n)]*p['Z{}'.format(n)]*np.exp(-En*t)\n",
    "        for m in range(n_local):\n",
    "            if n == m:\n",
    "                continue\n",
    "            else:\n",
    "                Em = Ei(m, p)\n",
    "                e_Delta_nm = np.exp((En - Em)/2.)\n",
    "                e_Delta_mn = np.exp((Em - En)/2.)\n",
    "                #print(\"n = \", n)\n",
    "                #print(\"m = \", m)\n",
    "                #print(\"En = \", En)\n",
    "                #print(\"Em = \", Em)\n",
    "                #print(\"e_Delta_nm = \", e_Delta_nm)\n",
    "                #print(\"e_Delta_nm = \", e_Delta_mn)\n",
    "                \n",
    "                mn_ratio = (e_Delta_nm*np.exp(-En*t) - e_Delta_mn*np.exp(-Em*t))/(e_Delta_mn - e_Delta_nm)\n",
    "                \n",
    "                result += p['Z{}'.format(n)]*p['gA3_{0}{1}'.format(n, m)]*p['Z{}'.format(m)]*mn_ratio\n",
    "                \n",
    "    return result\n",
    "\n",
    "def Csum_V4(t, p, n_local):\n",
    "    result = 0\n",
    "    for n in range(n_local):\n",
    "        En = Ei(n, p)\n",
    "        result += (t - 1) * p['Z{}'.format(n)]*p['gV4_{0}{1}'.format(n, n)]*p['Z{}'.format(n)]*np.exp(-En*t)\n",
    "        for m in range(n_local):\n",
    "            if n == m:\n",
    "                continue\n",
    "            else:\n",
    "                Em = Ei(m, p)\n",
    "                e_Delta_nm = np.exp((En - Em)/2.)\n",
    "                e_Delta_mn = np.exp((Em - En)/2.)\n",
    "                \n",
    "                mn_ratio = (e_Delta_nm*np.exp(-En*t) - e_Delta_mn*np.exp(-Em*t))/(e_Delta_mn - e_Delta_nm)\n",
    "                \n",
    "                result += p['Z{}'.format(n)]*p['gV4_{0}{1}'.format(n, m)]*p['Z{}'.format(m)]*mn_ratio\n",
    "                \n",
    "    return result\n",
    "\n",
    "def C_FH_A3(t, p):\n",
    "    #p_FH = gv.BufferDict()\n",
    "    #p_FH['E0'] = p['E0']\n",
    "    \n",
    "    #n = 0\n",
    "    #while (n < num_states_FH):\n",
    "        #p_FH['Z{}'.format(n)] = p['Z{}'.format(n)]\n",
    "        #for m in range(num_states_FH):\n",
    "            #p_FH['gA3_{0}{1}'.format(n, m)] = p['gA3_{0}{1}'.format(n, m)]\n",
    "            \n",
    "        #n += 1\n",
    "        \n",
    "    \n",
    "    #nE = 0\n",
    "    #while nE < num_states_FH - 2:\n",
    "        #p_FH['log(dE{})'.format(nE)] = p['log(dE{})'.format(nE)]\n",
    "        #nE += 1\n",
    "        \n",
    "    #p_FH['log(dE{})'.format(nE)] = p['log(FH_dEmax)']\n",
    "    \n",
    "    return (Csum_A3(t + 1, p, num_states_FH)/C_2pt_SS_aux(t + 1, p, num_states_FH)) - (Csum_A3(t, p, num_states_FH)/C_2pt_SS_aux(t, p, num_states_FH))\n",
    "\n",
    "\n",
    "def C_FH_V4(t, p):\n",
    "    #p_FH = gv.BufferDict()\n",
    "    #p_FH['E0'] = p['E0']\n",
    "    \n",
    "    #for n in range(num_states_FH):\n",
    "        #p_FH['Z{}'.format(n)] = p['Z{}'.format(n)]\n",
    "        #for m in range(num_states_FH):\n",
    "            #p_FH['gV4_{0}{1}'.format(n, m)] = p['gV4_{0}{1}'.format(n, m)]\n",
    "    \n",
    "    #nE = 0\n",
    "    #while nE < num_states_FH - 2:\n",
    "        #p_FH['log(dE{})'.format(nE)] = p['log(dE{})'.format(nE)]\n",
    "        #nE += 1\n",
    "        \n",
    "    #p_FH['log(dE{})'.format(nE)] = p['log(FH_dEmax)']\n",
    "    \n",
    "    return (Csum_V4(t + 1, p, num_states_FH)/C_2pt_SS_aux(t + 1, p, num_states_FH)) - (Csum_V4(t, p, num_states_FH)/C_2pt_SS_aux(t, p, num_states_FH))\n",
    "\n",
    "\n",
    "def C_FH(t, p):\n",
    "    return np.transpose(np.array([C_FH_A3(t, p), C_FH_V4(t, p)])) #, axes=[2,0,1]"
   ]
  },
  {
   "cell_type": "code",
   "execution_count": 61,
   "metadata": {},
   "outputs": [],
   "source": [
    "# In order to be able to work with our 2-d array based functions, we need a way to convert from 2-d array to 1-d arrays and from 1-d arrays to 2-d arrays\n",
    "# For the independent (time) variable, I'd just set up a 2-d array and a 1-d array with all the data I need\n",
    "# For the dependent (correlation function) variable, I'd use the time variable arrays to call the correct indices to assign the variables in the conversion\n",
    "t_2d_array = np.array([np.array([(i+3, j) for j in range(1, i+tsep_vals[0])]) for i in range(len(tsep_vals))])\n",
    "\n",
    "num_elements = np.sum(np.array([i+tsep_vals[0]-1 for i in range(len(tsep_vals))]))\n",
    "tsep_t = np.zeros(num_elements)\n",
    "tau_t = np.zeros(num_elements)\n",
    "\n",
    "k = 0\n",
    "for i in range(len(tsep_vals)):\n",
    "    for j in range(1, i+tsep_vals[0]):\n",
    "        tsep_t[k] = i + tsep_vals[0]\n",
    "        tau_t[k] = j\n",
    "        #print(\"k = \", k, \" tsep = \", tsep_t[k], \" tau = \", tau_t[k])\n",
    "        k += 1\n",
    "\n",
    "        \n",
    "t_1d_array = np.transpose(np.array([tsep_t, tau_t])) \n",
    "\n",
    "#print(t_2d_array)\n",
    "#print(t_1d_array)\n",
    "\n",
    "# Universal precondition for the below functions: x_1d, x_2d, y_1d, and y_2d, in the end, must have the \n",
    "# same number of elements. Also, x_1d and y_1d have to have the same dimensions, as must x_2d and y_2d\n",
    "def convert_1dto2d(x_1d, x_2d, y_1d):\n",
    "    y_2d = np.array([np.array([None for j in range(len(x_2d[i]))]) for i in range(len(x_2d))])\n",
    "    i = 0\n",
    "    j = 0\n",
    "    for k in range(len(x_1d)):\n",
    "        y_2d[i][j] = y_1d[k]\n",
    "        j += 1\n",
    "        if j >= len(x_2d[i]):\n",
    "            i +=1\n",
    "            j = 0\n",
    "            \n",
    "    return y_2d\n",
    "\n",
    "def convert_2dto1d(x_1d, x_2d, y_2d):\n",
    "    y_1d = np.array([None for k in range(len(x_1d))])\n",
    "    k = 0\n",
    "    for i in range(len(x_2d)):\n",
    "        for j in range(len(x_2d[i])):\n",
    "            y_1d[k] = y_2d[i][j]\n",
    "            k += 1\n",
    "    \n",
    "    return y_1d\n",
    "    "
   ]
  },
  {
   "cell_type": "markdown",
   "metadata": {},
   "source": [
    "#### Chained-fit"
   ]
  },
  {
   "cell_type": "code",
   "execution_count": 82,
   "metadata": {},
   "outputs": [],
   "source": [
    "# Try doing a 2-point-FH chained fit\n",
    "\n",
    "# Test: try fitting the Feynamn Hellman fit individually\n",
    "\n",
    "num_zs = 2\n",
    "num_states_FH = 2\n",
    "\n",
    "# prior the fits\n",
    "tp = gv.BufferDict()\n",
    "\n",
    "# This is the exponent e_decay_exp such that the increment between two consecutive excited state energies decays as 1/n^e_decay_exp, where n is the order of the excited state energy \n",
    "e_decay_exp = 0\n",
    "\n",
    "tp['E0'] = gv.gvar(0.67, 0.02)\n",
    "tp['Z0'] = gv.gvar(0.0008, 0.0003)\n",
    "tp['Ztilde0'] = gv.gvar(0.003, 0.003)\n",
    "\n",
    "# Define some constants for prioring the higher-order energies\n",
    "dE0 = 2*mpi\n",
    "b = 0.7\n",
    "\n",
    "# Use constant dE to prior the energies\n",
    "dE0 = 2*mpi\n",
    "energyvals = np.array([None]*num_states_FH)\n",
    "dEvals = np.array([None]*(num_states_FH - 1))\n",
    "\n",
    "energyvals[0] = tp['E0'].mean\n",
    "for k in range(1, num_states_FH):\n",
    "    dEvals[k-1] = dE0/np.power(k, e_decay_exp)\n",
    "    energyvals[k] = energyvals[k-1] + dEvals[k-1]\n",
    "\n",
    "for n in range(1, num_states_FH): #num_zs\n",
    "    tp['Z{}'.format(n)] = gv.gvar(0.0012, 0.0006)\n",
    "    tp['Ztilde{}'.format(n)] = gv.gvar(0, 0.01)\n",
    "    tp['log(dE{})'.format(n)] = gv.gvar(np.log(dEvals[n-1]), b)\n",
    "    \n",
    "# Set the \"garbage can\" for the Feynman Hellman fit\n",
    "#tp['log(FH_dEmax)'] = gv.gvar(np.log(dEvals[num_states_FH - 2]), b) \n",
    "#tp['Z_FHmax'] = gv.gvar(0.0008, 0.0004)\n",
    "\n",
    "for n in range(num_states_FH): #num_zs\n",
    "    for m in range(num_states_FH): #num_zs\n",
    "        \n",
    "        tp['gA3_{0}{1}'.format(n, m)] = gv.gvar(1, 2)\n",
    "        if n == m and n < num_states_FH-1:\n",
    "            tp['gV4_{0}{1}'.format(n, m)] = gv.gvar(1, 0.1)\n",
    "        else:\n",
    "            tp['gV4_{0}{1}'.format(n, m)] = gv.gvar(0, 2)\n",
    "\n",
    "tp['gA3_00'] = gv.gvar(1.25, 0.15)\n",
    "tp['gV4_00'] = gv.gvar(1.07, 0.07)\n",
    "\n",
    "#tp['gA3_FHmaxFHmax'] = gv.gvar(1, 2)\n",
    "#tp['gV4_FHmaxFHmax'] = gv.gvar(0, 2)\n",
    "\n",
    "#for n in range(num_states_FH-1):\n",
    "    #tp['gA3_FHmax{}'.format(n)] = gv.gvar(1, 2)\n",
    "    #tp['gA3_{}FHmax'.format(n)] = gv.gvar(1, 2)\n",
    "    #tp['gV4_FHmax{}'.format(n)] = gv.gvar(0, 2)\n",
    "    #tp['gV4_{}FHmax'.format(n)] = gv.gvar(0, 2)"
   ]
  },
  {
   "cell_type": "code",
   "execution_count": 83,
   "metadata": {},
   "outputs": [
    {
     "name": "stdout",
     "output_type": "stream",
     "text": [
      "Least Square Fit:\n",
      "  chi2/dof [dof] = 1.1 [16]    Q = 0.39    logGBF = 369.05\n",
      "\n",
      "Parameters:\n",
      "             E0       0.660642 +- 0.00241573             [     0.67 +- 0.02 ]  \n",
      "             Z0   0.000756651 +- 8.21891e-06             [ 0.0008 +- 0.0003 ]  \n",
      "        Ztilde0     0.00286505 +- 3.7085e-05             [   0.003 +- 0.003 ]  \n",
      "             Z1   0.000793333 +- 2.94221e-05             [ 0.0012 +- 0.0006 ]  \n",
      "        Ztilde1    0.00536789 +- 0.000294539             [        0 +- 0.01 ]  \n",
      "       log(dE1)        -0.68562 +- 0.0575436             [  -0.97551 +- 0.7 ]  \n",
      "         gA3_00                 1.25 +- 0.15             [     1.25 +- 0.15 ]  \n",
      "         gV4_00                 1.07 +- 0.07             [     1.07 +- 0.07 ]  \n",
      "         gA3_01                       1 +- 2             [           1 +- 2 ]  \n",
      "         gV4_01                       0 +- 2             [           0 +- 2 ]  \n",
      "         gA3_10                       1 +- 2             [           1 +- 2 ]  \n",
      "         gV4_10                       0 +- 2             [           0 +- 2 ]  \n",
      "         gA3_11                       1 +- 2             [           1 +- 2 ]  \n",
      "         gV4_11                       0 +- 2             [           0 +- 2 ]  \n",
      "-----------------------------------------------------------------------------\n",
      "            dE1        0.503778 +- 0.0289892             [  0.377 +- 0.2639 ]  \n",
      "\n",
      "Settings:\n",
      "  svdcut/n = 1e-12/0    tol = (1e-08,1e-10,1e-10*)    (itns/time = 9/0.0)\n",
      "  fitter = scipy_least_squares    method = trf\n",
      "\n"
     ]
    }
   ],
   "source": [
    "# 2-point fit\n",
    "fit_2pt = lsqfit.nonlinear_fit(data=(np.array([l for l in range(5, 13)]), np.array([[ [c] for c in gv_avg_data['2pt'][l]] for l in range(5,13)]) ), prior=tp,fcn=C_2pt,debug=True)\n",
    "print(fit_2pt.format(pstyle='vv'))\n",
    "post_2pt = fit_2pt.p"
   ]
  },
  {
   "cell_type": "code",
   "execution_count": 84,
   "metadata": {},
   "outputs": [
    {
     "name": "stdout",
     "output_type": "stream",
     "text": [
      "Least Square Fit:\n",
      "  chi2/dof [dof] = 0.39 [18]    Q = 0.99    logGBF = 48.55\n",
      "\n",
      "Parameters:\n",
      "             E0       0.660761 +- 0.00231095             [     0.660642 +- 0.00241573 ]  \n",
      "             Z0   0.000757071 +- 7.87435e-06             [ 0.000756651 +- 8.21891e-06 ]  \n",
      "        Ztilde0    0.00286706 +- 3.56621e-05             [   0.00286505 +- 3.7085e-05 ]  \n",
      "             Z1   0.000795553 +- 2.92137e-05             [ 0.000793333 +- 2.94221e-05 ]  \n",
      "        Ztilde1    0.00540073 +- 0.000289833             [  0.00536789 +- 0.000294539 ]  \n",
      "       log(dE1)       -0.678924 +- 0.0565431             [      -0.68562 +- 0.0575436 ]  \n",
      "         gA3_00         1.26296 +- 0.0164795             [               1.25 +- 0.15 ]  \n",
      "         gV4_00         1.02699 +- 0.0113791             [               1.07 +- 0.07 ]  \n",
      "         gA3_01         -0.185764 +- 1.41454             [                     1 +- 2 ]  \n",
      "         gV4_01         0.0250389 +- 1.41438             [                     0 +- 2 ]  \n",
      "         gA3_10         -0.185764 +- 1.41454             [                     1 +- 2 ]  \n",
      "         gV4_10         0.0250389 +- 1.41438             [                     0 +- 2 ]  \n",
      "         gA3_11           1.4416 +- 0.109923             [                     1 +- 2 ]  \n",
      "         gV4_11         1.23271 +- 0.0690639             [                     0 +- 2 ]  \n",
      "---------------------------------------------------------------------------------------\n",
      "            dE1        0.507162 +- 0.0286765             [      0.503778 +- 0.0289892 ]  \n",
      "\n",
      "Settings:\n",
      "  svdcut/n = 1e-12/0    tol = (1e-08,1e-10,1e-10*)    (itns/time = 6/0.2)\n",
      "  fitter = scipy_least_squares    method = trf\n",
      "\n"
     ]
    }
   ],
   "source": [
    "fit_CFH = lsqfit.nonlinear_fit(data=(np.array([l for l in tsep_vals[:-1]]), np.array([gv_avg_data['C^FH_combined'][l] for l in range(len(tsep_vals[:-1]))])), prior=post_2pt,fcn=C_FH,debug=True)\n",
    "print(fit_CFH.format(pstyle='vv')) #chi2/dof [dof] = 0.39 [18]    Q = 0.99    logGBF = 48.55\n",
    "post_CFH = fit_CFH.p"
   ]
  },
  {
   "cell_type": "code",
   "execution_count": 85,
   "metadata": {},
   "outputs": [],
   "source": [
    "current_posterior = open('chained_2pt_FH_Final.obj', 'wb') #485.81, 48.245\n",
    "pickle.dump(post_CFH, current_posterior)\n",
    "current_posterior.close()"
   ]
  },
  {
   "cell_type": "code",
   "execution_count": 86,
   "metadata": {},
   "outputs": [],
   "source": [
    "# Now, plot the fit results of the chained-fit, starting with the 2-point data\n",
    "step_up = 10\n",
    "t_min = 0\n",
    "t_max = 25\n",
    "tsep_model = np.linspace(t_min, t_max, (t_max - t_min)*step_up +1)\n",
    "\n",
    "C2ptSS_model = C_2pt_SS(tsep_model, post_CFH)\n",
    "C2ptPS_model = C_2pt_PS(tsep_model, post_CFH)\n",
    "\n",
    "SS_meff_model = np.log(np.array([C2ptSS_model[j]/C2ptSS_model[j+step_up] for j in range(len(tsep_model[:-step_up]))]))\n",
    "PS_meff_model = np.log(np.array([C2ptPS_model[j]/C2ptPS_model[j+step_up] for j in range(len(tsep_model[:-step_up]))]))\n",
    "\n",
    "zSeff_model = np.array([np.sqrt(np.exp(SS_meff_model[t]*t/step_up)*C2ptSS_model[t]) for t in range(len(tsep_model[:-step_up]))])\n",
    "zPeff_model = np.array([np.exp(PS_meff_model[t]*t/step_up)*C2ptPS_model[t]/zSeff_model[t] for t in range(len(tsep_model[:-step_up]))])\n",
    "\n",
    "# Split the models up into mean, upper-bound, and lower-bound\n",
    "C2ptSS_model_mean = np.array([C2ptSS_model[i].mean for i in range(len(C2ptSS_model))])\n",
    "C2ptSS_model_upbound = np.array([C2ptSS_model[i].mean + C2ptSS_model[i].sdev for i in range(len(C2ptSS_model))])\n",
    "C2ptSS_model_lowbound = np.array([C2ptSS_model[i].mean - C2ptSS_model[i].sdev for i in range(len(C2ptSS_model))])\n",
    "C2ptPS_model_mean = np.array([C2ptPS_model[i].mean for i in range(len(C2ptPS_model))])\n",
    "C2ptPS_model_upbound = np.array([C2ptPS_model[i].mean + C2ptPS_model[i].sdev for i in range(len(C2ptPS_model))])\n",
    "C2ptPS_model_lowbound = np.array([C2ptPS_model[i].mean - C2ptPS_model[i].sdev for i in range(len(C2ptPS_model))])\n",
    "\n",
    "SS_meff_model_mean = np.array([SS_meff_model[i].mean for i in range(len(SS_meff_model))])\n",
    "SS_meff_model_upbound = np.array([SS_meff_model[i].mean + SS_meff_model[i].sdev for i in range(len(SS_meff_model))])\n",
    "SS_meff_model_lowbound = np.array([SS_meff_model[i].mean - SS_meff_model[i].sdev for i in range(len(SS_meff_model))])\n",
    "PS_meff_model_mean = np.array([PS_meff_model[i].mean for i in range(len(PS_meff_model))])\n",
    "PS_meff_model_upbound = np.array([PS_meff_model[i].mean + PS_meff_model[i].sdev for i in range(len(PS_meff_model))])\n",
    "PS_meff_model_lowbound = np.array([PS_meff_model[i].mean - PS_meff_model[i].sdev for i in range(len(PS_meff_model))])\n",
    "\n",
    "zSeff_model_mean = np.array([zSeff_model[i].mean for i in range(len(zSeff_model))]) \n",
    "zSeff_model_upbound = np.array([zSeff_model[i].mean + zSeff_model[i].sdev for i in range(len(zSeff_model))]) \n",
    "zSeff_model_lowbound = np.array([zSeff_model[i].mean - zSeff_model[i].sdev for i in range(len(zSeff_model))])\n",
    "zPeff_model_mean = np.array([zPeff_model[i].mean for i in range(len(zPeff_model))]) \n",
    "zPeff_model_upbound = np.array([zPeff_model[i].mean + zPeff_model[i].sdev for i in range(len(zPeff_model))])\n",
    "zPeff_model_lowbound = np.array([zPeff_model[i].mean - zPeff_model[i].sdev for i in range(len(zPeff_model))])\n",
    "#print(np.shape(zSeff_model_lowbound))"
   ]
  },
  {
   "cell_type": "code",
   "execution_count": 87,
   "metadata": {},
   "outputs": [
    {
     "data": {
      "image/png": "[encoded data removed]",
      "text/plain": [
       "<Figure size 720x504 with 1 Axes>"
      ]
     },
     "metadata": {
      "needs_background": "light"
     },
     "output_type": "display_data"
    },
    {
     "data": {
      "text/plain": [
       "<Figure size 432x288 with 0 Axes>"
      ]
     },
     "metadata": {},
     "output_type": "display_data"
    },
    {
     "data": {
      "image/png": "[encoded data removed]",
      "text/plain": [
       "<Figure size 720x504 with 1 Axes>"
      ]
     },
     "metadata": {
      "needs_background": "light"
     },
     "output_type": "display_data"
    },
    {
     "data": {
      "text/plain": [
       "<Figure size 432x288 with 0 Axes>"
      ]
     },
     "metadata": {},
     "output_type": "display_data"
    }
   ],
   "source": [
    "# Plot the fits\n",
    "t_plot = np.array([i for i in range(1, 25)])\n",
    "x_raw2pt = np.array([t_plot, t_plot])\n",
    "y_raw2pt_mean = np.array([[gv_avg_data['2pt_SS'][i].mean for i in t_plot], [gv_avg_data['2pt_PS'][i].mean for i in t_plot]])\n",
    "y_raw2pt_sdev = np.array([[gv_avg_data['2pt_SS'][i].sdev for i in t_plot], [gv_avg_data['2pt_PS'][i].sdev for i in t_plot]])\n",
    "y_2ptmeff_mean = np.array([[gv_avg_data['2pt_SS_meff'][i].mean for i in t_plot], [gv_avg_data['2pt_PS_meff'][i].mean for i in t_plot]])\n",
    "y_2ptmeff_sdev = np.array([[gv_avg_data['2pt_SS_meff'][i].sdev for i in t_plot], [gv_avg_data['2pt_PS_meff'][i].sdev for i in t_plot]])\n",
    "\n",
    "x_raw2pt_fit = np.array([tsep_model, tsep_model])\n",
    "y_raw2pt_fit_mean = np.array([C2ptSS_model_mean, C2ptPS_model_mean])\n",
    "y_raw2pt_fit_upper = np.array([C2ptSS_model_upbound, C2ptPS_model_upbound])\n",
    "y_raw2pt_fit_lower = np.array([C2ptSS_model_lowbound, C2ptPS_model_lowbound])\n",
    "h5_dm.fit_data_plot(\"2-point Correlation Function fit\", \"tsep\", \"C_{2pt}\", x_raw2pt, y_raw2pt_mean, x_raw2pt_fit, y_raw2pt_fit_mean, y_raw2pt_fit_upper, y_raw2pt_fit_lower, ['red', 'blue'], ylim = None, nplots = 2, ydat_error = y_raw2pt_sdev, datalabels = [\"same-point annihilation\", \"different-point annihilation\"], fitlabels = [\"same-point annihilation\", \"different-point annihilation\"], logy = True)\n",
    "\n",
    "y_2ptmeff_fit_mean = np.array([SS_meff_model_mean, PS_meff_model_mean])\n",
    "y_2ptmeff_fit_upper = np.array([SS_meff_model_upbound, PS_meff_model_upbound])\n",
    "y_2ptmeff_fit_lower = np.array([SS_meff_model_lowbound, PS_meff_model_lowbound])\n",
    "\n",
    "h5_dm.fit_data_plot(\"2-point Meff fit result\", \"tsep\", \"M_eff\", x_raw2pt, y_2ptmeff_mean, x_raw2pt_fit[:,:-step_up], y_2ptmeff_fit_mean, y_2ptmeff_fit_upper, y_2ptmeff_fit_lower, ['red', 'blue'], ylim = None, nplots = 2, ydat_error = y_2ptmeff_sdev, datalabels = [\"same-point annihilation\", \"different-point annihilation\"], fitlabels = [\"same-point annihilation\", \"different-point annihilation\"])\n",
    "\n"
   ]
  },
  {
   "cell_type": "code",
   "execution_count": 88,
   "metadata": {},
   "outputs": [
    {
     "data": {
      "image/png": "[encoded data removed]",
      "text/plain": [
       "<Figure size 720x504 with 1 Axes>"
      ]
     },
     "metadata": {
      "needs_background": "light"
     },
     "output_type": "display_data"
    },
    {
     "data": {
      "text/plain": [
       "<Figure size 432x288 with 0 Axes>"
      ]
     },
     "metadata": {},
     "output_type": "display_data"
    },
    {
     "data": {
      "image/png": "[encoded data removed]",
      "text/plain": [
       "<Figure size 720x504 with 1 Axes>"
      ]
     },
     "metadata": {
      "needs_background": "light"
     },
     "output_type": "display_data"
    },
    {
     "data": {
      "text/plain": [
       "<Figure size 432x288 with 0 Axes>"
      ]
     },
     "metadata": {},
     "output_type": "display_data"
    }
   ],
   "source": [
    "h5_dm.fit_data_plot(\"2-point zSeff fit result\", \"tsep\", \"zSeff\", x_raw2pt[0], [gv_avg_data['2pt_zSeff'][i].mean for i in t_plot], x_raw2pt_fit[0,:-step_up], zSeff_model_mean, zSeff_model_upbound, zSeff_model_lowbound, \"red\", ylim=[-0.0001, 0.003], ydat_error = [gv_avg_data['2pt_zSeff'][i].sdev for i in t_plot], datalabels = \"data\", fitlabels = \"fit\")\n",
    "h5_dm.fit_data_plot(\"2-point zPeff fit result\", \"tsep\", \"zPeff\", x_raw2pt[1], [gv_avg_data['2pt_zPeff'][i].mean for i in t_plot], x_raw2pt_fit[0,:-step_up], zPeff_model_mean, zPeff_model_upbound, zPeff_model_lowbound, \"red\", ylim=[-0.0001, 0.012], ydat_error = [gv_avg_data['2pt_zPeff'][i].sdev for i in t_plot], datalabels = \"data\", fitlabels = \"fit\")"
   ]
  },
  {
   "cell_type": "code",
   "execution_count": 89,
   "metadata": {},
   "outputs": [
    {
     "data": {
      "image/png": "[encoded data removed]",
      "text/plain": [
       "<Figure size 720x504 with 1 Axes>"
      ]
     },
     "metadata": {
      "needs_background": "light"
     },
     "output_type": "display_data"
    },
    {
     "data": {
      "text/plain": [
       "<Figure size 432x288 with 0 Axes>"
      ]
     },
     "metadata": {},
     "output_type": "display_data"
    },
    {
     "data": {
      "image/png": "[encoded data removed]",
      "text/plain": [
       "<Figure size 720x504 with 1 Axes>"
      ]
     },
     "metadata": {
      "needs_background": "light"
     },
     "output_type": "display_data"
    },
    {
     "data": {
      "text/plain": [
       "<Figure size 432x288 with 0 Axes>"
      ]
     },
     "metadata": {},
     "output_type": "display_data"
    }
   ],
   "source": [
    "# And finally, plot the Feynman-Hellman fit functions\n",
    "step_FH = 10\n",
    "\n",
    "# Set up the fit plotting\n",
    "t_FH_model = np.linspace(tsep_vals[0], tsep_vals[-1]+4, (tsep_vals[-1]+4 - tsep_vals[0])*step_FH + 1)\n",
    "\n",
    "CFH_A3_model = C_FH_A3(t_FH_model, post_CFH)\n",
    "CFH_V4_model = C_FH_V4(t_FH_model, post_CFH)\n",
    "\n",
    "CFH_A3_model_mean = np.array([CFH_A3_model[i].mean for i in range(len(CFH_A3_model))])\n",
    "CFH_A3_model_upbound = np.array([CFH_A3_model[i].mean + CFH_A3_model[i].sdev for i in range(len(CFH_A3_model))])\n",
    "CFH_A3_model_lowbound = np.array([CFH_A3_model[i].mean - CFH_A3_model[i].sdev for i in range(len(CFH_A3_model))])\n",
    "CFH_V4_model_mean = np.array([CFH_V4_model[i].mean for i in range(len(CFH_V4_model))])\n",
    "CFH_V4_model_upbound = np.array([CFH_V4_model[i].mean + CFH_V4_model[i].sdev for i in range(len(CFH_V4_model))])\n",
    "CFH_V4_model_lowbound = np.array([CFH_V4_model[i].mean - CFH_V4_model[i].sdev for i in range(len(CFH_V4_model))])\n",
    "\n",
    "# Set up the raw data plotting\n",
    "x_CFH = np.array([i for i in tsep_vals[:-1] ])\n",
    "y_CFH_A3 = np.array([gv_avg_data['C^FH_A3'][i].mean for i in range(len(tsep_vals)-1)])\n",
    "y_CFH_A3_err = np.array([gv_avg_data['C^FH_A3'][i].sdev for i in range(len(tsep_vals)-1)])\n",
    "y_CFH_V4 = np.array([gv_avg_data['C^FH_V4'][i].mean for i in range(len(tsep_vals)-1)])\n",
    "y_CFH_V4_err = np.array([gv_avg_data['C^FH_V4'][i].sdev for i in range(len(tsep_vals)-1)])\n",
    "\n",
    "h5_dm.fit_data_plot(\"Feynman-Hellman gA plot\", \"tsep\", \"gA_FH\", x_CFH, y_CFH_A3, t_FH_model, CFH_A3_model_mean, CFH_A3_model_upbound, CFH_A3_model_lowbound, \"tab:grey\", g00 = post_CFH['gA3_00'], ydat_error=y_CFH_A3_err) \n",
    "h5_dm.fit_data_plot(\"Feynman-Hellman gV plot\", \"tsep\", \"gV_FH\", x_CFH, y_CFH_V4, t_FH_model, CFH_V4_model_mean, CFH_V4_model_upbound, CFH_V4_model_lowbound, \"tab:grey\", g00 = post_CFH['gV4_00'], ydat_error=y_CFH_V4_err)\n",
    "\n"
   ]
  },
  {
   "cell_type": "markdown",
   "metadata": {},
   "source": [
    "## Now, compare results for various sample sizes and tau-cuts"
   ]
  },
  {
   "cell_type": "code",
   "execution_count": null,
   "metadata": {},
   "outputs": [],
   "source": []
  }
 ],
 "metadata": {
  "kernelspec": {
   "display_name": "Python 3",
   "language": "python",
   "name": "python3"
  },
  "language_info": {
   "codemirror_mode": {
    "name": "ipython",
    "version": 3
   },
   "file_extension": ".py",
   "mimetype": "text/x-python",
   "name": "python",
   "nbconvert_exporter": "python",
   "pygments_lexer": "ipython3",
   "version": "3.8.1"
  }
 },
 "nbformat": 4,
 "nbformat_minor": 4
}
