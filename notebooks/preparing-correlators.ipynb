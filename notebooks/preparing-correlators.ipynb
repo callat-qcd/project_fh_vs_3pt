{
 "cells": [
  {
   "cell_type": "markdown",
   "metadata": {},
   "source": [
    "# Init"
   ]
  },
  {
   "cell_type": "code",
   "execution_count": null,
   "metadata": {},
   "outputs": [],
   "source": [
    "import re\n",
    "import h5py\n",
    "import pandas as pd\n",
    "\n",
    "import gvar\n",
    "\n",
    "from nucleon_elastic_ff.data.h5io import get_dsets"
   ]
  },
  {
   "cell_type": "markdown",
   "metadata": {},
   "source": [
    "# Read & parse the file"
   ]
  },
  {
   "cell_type": "code",
   "execution_count": null,
   "metadata": {},
   "outputs": [],
   "source": [
    "file = \"a09m310_e_avg.h5\""
   ]
  },
  {
   "cell_type": "code",
   "execution_count": null,
   "metadata": {},
   "outputs": [],
   "source": [
    "pattern = \"(?P<parity>proton|proton\\_np)\"\n",
    "pattern += \"_(?P<isospin>DD|UU)\"\n",
    "pattern += \"_(?P<spin>dn_dn|up_up)\"\n",
    "pattern += \"_tsep_[\\-]*(?P<tsep>[0-9]+)\"\n",
    "pattern += \".*(?P<current>A3|V4).*cfgs\\_srcs\""
   ]
  },
  {
   "cell_type": "code",
   "execution_count": null,
   "metadata": {},
   "outputs": [],
   "source": [
    "columns = [\"nucleon\", \"current\", \"tsep\", \"cfg\", \"t\", \"isospin\", \"parity\", \"spin\", \"corr\"]"
   ]
  },
  {
   "cell_type": "code",
   "execution_count": null,
   "metadata": {
    "scrolled": false
   },
   "outputs": [],
   "source": [
    "data_frames = []\n",
    "\n",
    "with h5py.File(file, \"r\") as h5f:\n",
    "    dsets = get_dsets(h5f)\n",
    "\n",
    "    for key, dset in dsets.items():\n",
    "        match = re.search(pattern, key)\n",
    "        if match:\n",
    "            info = match.groupdict()\n",
    "\n",
    "            nucleon_parity = info.pop(\"parity\").split(\"_\")\n",
    "            info[\"nucleon\"] = nucleon_parity[0]\n",
    "            info[\"parity\"] = -1 if len(nucleon_parity) == 2 else 1\n",
    "            \n",
    "            isospin = info.pop(\"isospin\")\n",
    "            info[\"isospin\"] = 1 if isospin == \"UU\" else -1            \n",
    "\n",
    "            current_key = key.replace(\"cfgs_srcs\", \"local_curr\")\n",
    "            curr_dset = h5f[current_key]\n",
    "\n",
    "            cfgs = dset[:, 0]\n",
    "            corr = (\n",
    "                curr_dset[()].real if info[\"current\"] in [\"V4\"] else curr_dset[()].imag\n",
    "            )\n",
    "            ts = range(corr.shape[-1])\n",
    "\n",
    "            tmp_df = (\n",
    "                pd.DataFrame(index=cfgs, columns=ts, data=corr)\n",
    "                .unstack()\n",
    "                .reset_index()\n",
    "                .rename(columns={\"level_0\": \"t\", \"level_1\": \"cfg\", 0: \"corr\"})\n",
    "            )\n",
    "            for key, val in info.items():\n",
    "                tmp_df[key] = val\n",
    "            data_frames.append(tmp_df.astype({\"tsep\": int}))\n",
    "\n",
    "\n",
    "\n",
    "df = pd.concat(\n",
    "    data_frames, \n",
    "    ignore_index=True, \n",
    ").reindex(columns, axis=1).sort_values(columns).reset_index(drop=True)\n",
    "df.head()"
   ]
  },
  {
   "cell_type": "markdown",
   "metadata": {},
   "source": [
    "# Spin average"
   ]
  },
  {
   "cell_type": "code",
   "execution_count": null,
   "metadata": {},
   "outputs": [],
   "source": [
    "spin_avg_df = df.groupby(\n",
    "    [\"nucleon\", \"current\", \"tsep\", \"cfg\", \"t\", \"isospin\", \"parity\"], as_index=False\n",
    ")[\"corr\"].mean()\n",
    "\n",
    "spin_avg_df.head()"
   ]
  },
  {
   "cell_type": "markdown",
   "metadata": {},
   "source": [
    "# Parity average (minus sign)"
   ]
  },
  {
   "cell_type": "code",
   "execution_count": null,
   "metadata": {},
   "outputs": [],
   "source": [
    "tmp = spin_avg_df.copy()\n",
    "tmp[\"corr\"] *= tmp[\"parity\"]\n",
    "spin_parity_avg_df = tmp.groupby(\n",
    "    [\"nucleon\", \"current\", \"tsep\", \"cfg\", \"t\", \"isospin\",  ], as_index=False\n",
    ")[[\"corr\"]].mean()\n",
    "\n",
    "spin_parity_avg_df.head()"
   ]
  },
  {
   "cell_type": "markdown",
   "metadata": {},
   "source": [
    "# Isospin sum (minus sign)"
   ]
  },
  {
   "cell_type": "code",
   "execution_count": null,
   "metadata": {},
   "outputs": [],
   "source": [
    "tmp = spin_parity_avg_df.copy()\n",
    "tmp[\"corr\"] *= tmp[\"isospin\"]\n",
    "isospin_spin_parity_avg_df = (\n",
    "    tmp.groupby([\"nucleon\", \"current\", \"tsep\", \"cfg\",  \"t\"], as_index=False)[\"corr\"]\n",
    "    .sum()\n",
    ")\n",
    "isospin_spin_parity_avg_df.head()"
   ]
  },
  {
   "cell_type": "markdown",
   "metadata": {},
   "source": [
    "# Statistical average"
   ]
  },
  {
   "cell_type": "code",
   "execution_count": null,
   "metadata": {},
   "outputs": [],
   "source": [
    "def avg_data(arg):\n",
    "    corr_avg = gvar.dataset.avg_data(\n",
    "        arg.pivot(index=\"cfg\", columns=\"t\", values=\"corr\").values\n",
    "    )\n",
    "    return pd.Series(corr_avg)\n",
    "\n",
    "\n",
    "group = isospin_spin_parity_avg_df.groupby([\"nucleon\", \"current\", \"tsep\"])\n",
    "corr_df = (\n",
    "    group.apply(avg_data)\n",
    "    .reset_index(level=-1)\n",
    "    .rename(columns={\"level_3\": \"t\", 0: \"corr\"})\n",
    "    .reset_index()\n",
    "    .set_index([\"nucleon\", \"current\", \"tsep\", \"t\"])\n",
    ")\n",
    "\n",
    "corr_df.head()"
   ]
  },
  {
   "cell_type": "code",
   "execution_count": null,
   "metadata": {},
   "outputs": [],
   "source": []
  }
 ],
 "metadata": {
  "kernelspec": {
   "display_name": "Python 3",
   "language": "python",
   "name": "python3"
  },
  "language_info": {
   "codemirror_mode": {
    "name": "ipython",
    "version": 3
   },
   "file_extension": ".py",
   "mimetype": "text/x-python",
   "name": "python",
   "nbconvert_exporter": "python",
   "pygments_lexer": "ipython3",
   "version": "3.7.3"
  }
 },
 "nbformat": 4,
 "nbformat_minor": 2
}
